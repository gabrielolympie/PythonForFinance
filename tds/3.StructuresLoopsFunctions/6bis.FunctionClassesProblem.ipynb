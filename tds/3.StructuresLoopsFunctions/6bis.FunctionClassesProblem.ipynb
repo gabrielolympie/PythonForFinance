{
 "cells": [
  {
   "cell_type": "markdown",
   "id": "8e930000",
   "metadata": {},
   "source": [
    "### **Problem: Building a Portfolio Manager**\n",
    "\n",
    "#### **Scenario**\n",
    "You've been tasked with creating a simple portfolio management tool using object-oriented principles. The tool needs to be able to represent individual stocks and a portfolio that holds those stocks. The portfolio should be able to add new holdings and calculate its total value.\n",
    "\n",
    "#### **Your Task**\n",
    "You will build two classes: `Stock` and `Portfolio`.\n",
    "\n",
    "1.  **Create the `Stock` Class:**\n",
    "    *   Define a class named `Stock`.\n",
    "    *   The `__init__` method should accept `ticker`, `shares`, and `price` as arguments and store them as attributes on the object.\n",
    "    *   Add a method called `get_value` that takes no arguments (besides `self`) and returns the total value of that stock holding (`shares` * `price`).\n",
    "\n",
    "2.  **Create the `Portfolio` Class:**\n",
    "    *   Define a class named `Portfolio`.\n",
    "    *   The `__init__` method should not take any arguments (besides `self`). It should initialize an attribute called `holdings` as an empty list (`self.holdings = []`). This list will store your `Stock` objects.\n",
    "    *   Add a method called `add_holding` that takes one argument: a `stock_object`. This method should append the given `stock_object` to the `self.holdings` list.\n",
    "    *   Add a method called `get_total_value`. This method should:\n",
    "        *   Initialize a variable `total_value` to `0.0`.\n",
    "        *   Loop through each `stock_object` in the `self.holdings` list.\n",
    "        *   For each `stock_object`, call its `get_value` method and add the result to `total_value`.\n",
    "        *   Finally, `return` the `total_value`.\n",
    "    *   Add a method `generate_report`. This method should build and return a multi-line string report that looks like the example below.\n",
    "\n",
    "3.  **Put It All Together:**\n",
    "    *   Create an instance of your `Portfolio` class.\n",
    "    *   Create at least three different `Stock` objects with your own made-up data.\n",
    "    *   Use the `add_holding` method of your portfolio object to add the three stock objects to the portfolio.\n",
    "    *   Call the `generate_report` method on your portfolio object and print the result.\n",
    "\n",
    "**Example Final Output:**\n",
    "\n",
    "```\n",
    "Portfolio Holdings Report\n",
    "-------------------------\n",
    "- AAPL (100 shares): $17525.0\n",
    "- GOOG (50 shares): $6775.0\n",
    "- JPM (200 shares): $31040.0\n",
    "-------------------------\n",
    "Total Portfolio Value: $55340.0\n",
    "```\n"
   ]
  },
  {
   "cell_type": "code",
   "execution_count": null,
   "id": "e1c73795",
   "metadata": {},
   "outputs": [],
   "source": []
  },
  {
   "cell_type": "code",
   "execution_count": null,
   "id": "76ab73ac",
   "metadata": {},
   "outputs": [],
   "source": []
  },
  {
   "cell_type": "code",
   "execution_count": null,
   "id": "d3611a6f",
   "metadata": {},
   "outputs": [],
   "source": []
  },
  {
   "cell_type": "code",
   "execution_count": null,
   "id": "102a0a78",
   "metadata": {},
   "outputs": [],
   "source": []
  },
  {
   "cell_type": "code",
   "execution_count": null,
   "id": "0ec4f199",
   "metadata": {},
   "outputs": [],
   "source": []
  }
 ],
 "metadata": {
  "kernelspec": {
   "display_name": "base",
   "language": "python",
   "name": "python3"
  },
  "language_info": {
   "name": "python",
   "version": "3.11.5"
  }
 },
 "nbformat": 4,
 "nbformat_minor": 5
}
