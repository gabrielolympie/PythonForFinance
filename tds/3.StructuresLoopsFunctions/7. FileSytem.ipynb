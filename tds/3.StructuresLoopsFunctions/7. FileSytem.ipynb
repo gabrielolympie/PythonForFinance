{
 "cells": [
  {
   "cell_type": "markdown",
   "id": "aaf6f9ce",
   "metadata": {},
   "source": [
    "## **7. Using Files as Input: Reading Data from the Outside World**\n",
    "\n",
    "So far, all the data we've worked with has been created directly inside our code (e.g., `start_price = 225.40`). In any real-world business or finance scenario, this is rarely the case. Data lives in files: transaction logs, market data exports, configuration settings, and reports.\n",
    "\n",
    "To build powerful applications, our Python scripts must be able to **read** data from these files. This process is called **File I/O** (Input/Output). We'll learn how to navigate the file system to find our files and how to parse different file formats, from simple text to structured data like JSON and YAML."
   ]
  },
  {
   "cell_type": "markdown",
   "id": "73afd4e5",
   "metadata": {},
   "source": [
    "### **7.1 Navigating Your Computer: The `os` Module**\n",
    "Before you can open a file, you need to know where it is. The `os` module in Python provides a way to interact with the operating system, allowing you to work with file paths and directories.\n",
    "\n",
    "**Key Functions:**\n",
    "*   `os.getcwd()`: **G**et **C**urrent **W**orking **D**irectory. Shows where your script is currently running from.\n",
    "*   `os.listdir(path)`: Lists all files and folders in a given directory path. This is key for processing multiple files in a folder.\n",
    "*   `os.path.exists(path)`: Returns `True` if a file or directory exists at the given path, `False` otherwise. Crucial for checking if a file is available before trying to open it.\n",
    "*   `os.path.join(path1, path2, ...)`: Intelligently combines path components. It automatically uses the correct separator (`/` or `\\`) for your operating system, making your code portable.\n",
    "*   `os.makedirs(path, exist_ok=True)`: Creates a directory. `exist_ok=True` prevents an error if the directory already exists."
   ]
  },
  {
   "cell_type": "code",
   "execution_count": 2,
   "id": "791da53a",
   "metadata": {},
   "outputs": [
    {
     "name": "stdout",
     "output_type": "stream",
     "text": [
      "Current Directory: /mnt/c/Users/gabol/Desktop/Audencia/PythonForFinance/tds/3.StructuresLoopsFunctions\n",
      "Constructed Path: /mnt/c/Users/gabol/Desktop/Audencia/PythonForFinance/tds/3.StructuresLoopsFunctions/..\n",
      "Contents of '.': ['4.ListSetDictTuples.ipynb', '4bis.4.ListSetDictTuplesProblem.ipynb', '5.ForWhileIf.ipynb', '5bis.ForWhileIfProblem.ipynb', '6.FunctionClasses.ipynb', '6bis.FunctionClassesProblem.ipynb', '7. FileSytem.ipynb', 'data', 'finance_tools.py', '__pycache__']\n",
      "Does the 'data' folder exist? True\n"
     ]
    }
   ],
   "source": [
    "import os\n",
    "\n",
    "# Find out where we are\n",
    "current_directory = os.getcwd()\n",
    "print(f\"Current Directory: {current_directory}\")\n",
    "\n",
    "# Build a path to a folder in a safe way\n",
    "data_folder_path = os.path.join(current_directory, '..')\n",
    "print(f\"Constructed Path: {data_folder_path}\")\n",
    "\n",
    "# Safely create the directory if it doesn't exist\n",
    "os.makedirs(data_folder_path, exist_ok=True)\n",
    "\n",
    "# List what's in the current directory\n",
    "print(f\"Contents of '.': {os.listdir('.')}\") # '.' is shorthand for the current directory\n",
    "\n",
    "# Check if our new folder exists\n",
    "print(f\"Does the 'data' folder exist? {os.path.exists(data_folder_path)}\")"
   ]
  },
  {
   "cell_type": "markdown",
   "id": "c36f3bf3",
   "metadata": {},
   "source": [
    "#### **Practice Session: `os` Module**\n",
    "1.  **Where Am I?**: Import the `os` module and print your current working directory.\n",
    "2.  **Make a Home for Data**: Create a new directory called `reports` using `os.makedirs()`.\n",
    "3.  **File Detective**: Check if a file named `important_data.csv` exists in your current directory. (It probably doesn't, so the output should be `False`).\n",
    "4.  **Path Builder**: Construct the full path to a file called `q1_summary.txt` that would live inside your new `reports` directory, using `os.path.join()`."
   ]
  },
  {
   "cell_type": "code",
   "execution_count": null,
   "id": "e2e0213d",
   "metadata": {},
   "outputs": [],
   "source": []
  },
  {
   "cell_type": "code",
   "execution_count": null,
   "id": "943636bc",
   "metadata": {},
   "outputs": [],
   "source": []
  },
  {
   "cell_type": "code",
   "execution_count": null,
   "id": "6636d859",
   "metadata": {},
   "outputs": [],
   "source": []
  },
  {
   "cell_type": "markdown",
   "id": "07bf4e18",
   "metadata": {},
   "source": [
    "### **7.2 Reading Plain Text Files (`.txt`)**\n",
    "The simplest type of file is a plain text file, often used for logs or simple lists. The best practice for handling files is using the `with open(...)` statement. It creates a temporary context and **automatically closes the file for you** when you are done, even if an error occurs.\n",
    "\n",
    "**Syntax:**\n",
    "```python\n",
    "with open('path/to/your/file.txt', 'r') as file_object:\n",
    "    # Code to work with the file goes here\n",
    "    # The file is automatically closed after this block\n",
    "```\n",
    "*   `'r'`: The **mode** for opening the file. `'r'` is for **read**. Other common modes are `'w'` (write, which overwrites the file) and `'a'` (append, which adds to the end of the file).\n",
    "\n",
    "#### **Methods for Reading Text Files:**\n",
    "Once the file is open, you can read its contents in several ways.\n",
    "```python\n",
    "# Assume we have a file 'tickers.txt' with the content:\n",
    "# AAPL\n",
    "# MSFT\n",
    "# GOOG\n",
    "\n",
    "# Method 1: Looping line by line (Best for large files)\n",
    "print(\"--- Looping Line by Line ---\")\n",
    "with open('tickers.txt', 'r') as f:\n",
    "    for line in f:\n",
    "        # .strip() removes whitespace, including the newline character\n",
    "        print(f\"Processing ticker: {line.strip()}\")\n",
    "\n",
    "# Method 2: Read all lines into a list of strings\n",
    "with open('tickers.txt', 'r') as f:\n",
    "    lines_list = f.readlines()\n",
    "    # print(lines_list) # Result: ['AAPL\\n', 'MSFT\\n', 'GOOG\\n']\n",
    "```"
   ]
  },
  {
   "cell_type": "markdown",
   "id": "9e69dbde",
   "metadata": {},
   "source": [
    "#### **Practice Session: Reading `.txt`**\n",
    "First, let's create a file to work with. Run the following code cell to create `portfolio.txt`:\n",
    "```python\n",
    "with open('portfolio.txt', 'w') as f:\n",
    "    f.write(\"MSFT,100,330.50\\n\")\n",
    "    f.write(\"AAPL,150,175.25\\n\")\n",
    "    f.write(\"JPM,200,155.20\\n\")\n",
    "```\n",
    "\n",
    "Now, complete these tasks:\n",
    "1.  **Read and Print**: Open `portfolio.txt` and use a `for` loop to read and print each line.\n",
    "2.  **Clean Data**: Modify your loop from step 1. For each line, use `.strip()` to remove the newline character and then `.split(',')` to turn the string into a list (e.g., `['MSFT', '100', '330.50']`). Print the resulting list for each line.\n",
    "3.  **Calculate Total Shares**: Building on step 2, initialize a `total_shares` variable to 0. Inside your loop, access the number of shares (it will be a string, so you'll need to convert it to an `int`), and add it to `total_shares`. After the loop, print the final total."
   ]
  },
  {
   "cell_type": "code",
   "execution_count": null,
   "id": "d5f0b580",
   "metadata": {},
   "outputs": [],
   "source": []
  },
  {
   "cell_type": "code",
   "execution_count": null,
   "id": "36b87ea7",
   "metadata": {},
   "outputs": [],
   "source": []
  },
  {
   "cell_type": "code",
   "execution_count": null,
   "id": "2e366e51",
   "metadata": {},
   "outputs": [],
   "source": []
  },
  {
   "cell_type": "markdown",
   "id": "22f500a5",
   "metadata": {},
   "source": [
    "### **7.3 Reading Structured Data: JSON (`.json`)**\n",
    "Most modern data isn't just a list of lines; it's **structured**. JSON (JavaScript Object Notation) is the most common format for structured data exchange. It maps almost perfectly to Python dictionaries. Python's built-in `json` module makes it incredibly easy to parse a JSON file directly into a Python dictionary.\n",
    "\n",
    "**Example `config.json` file:**\n",
    "```json\n",
    "{\n",
    "  \"portfolio_name\": \"Client Growth Portfolio\",\n",
    "  \"analyst\": \"John Doe\",\n",
    "  \"risk_level\": \"moderate\",\n",
    "  \"watch_list\": [\"NVDA\", \"TSLA\", \"AMZN\"]\n",
    "}\n",
    "```\n",
    "\n",
    "**Reading the JSON file:**\n",
    "```python\n",
    "import json\n",
    "\n",
    "with open('config.json', 'r') as f:\n",
    "    # Use json.load() to parse the file object\n",
    "    config_data = json.load(f)\n",
    "\n",
    "# config_data is now a standard Python dictionary!\n",
    "print(type(config_data))\n",
    "print(f\"Portfolio Name: {config_data['portfolio_name']}\")\n",
    "```"
   ]
  },
  {
   "cell_type": "markdown",
   "id": "e4e44dcd",
   "metadata": {},
   "source": [
    "#### **Practice Session: Reading `.json`**\n",
    "First, run this cell to create `stock_profile.json`:\n",
    "```python\n",
    "import json\n",
    "\n",
    "data = {\n",
    "    \"ticker\": \"NVDA\",\n",
    "    \"company_name\": \"NVIDIA Corporation\",\n",
    "    \"sector\": \"Technology\",\n",
    "    \"last_price\": 450.75,\n",
    "    \"is_profitable\": True\n",
    "}\n",
    "with open('stock_profile.json', 'w') as f:\n",
    "    json.dump(data, f, indent=2) # json.dump() writes a dict to a file\n",
    "```\n",
    "1.  **Load the Profile**: Import the `json` module. Open `stock_profile.json` and load its contents into a variable called `profile`.\n",
    "2.  **Access Data**: Print the company's name and its sector from the `profile` dictionary.\n",
    "3.  **Conditional Check**: Use an `if` statement to check if the value of the `\"is_profitable\"` key is `True`. If it is, print a confirmation message."
   ]
  },
  {
   "cell_type": "markdown",
   "id": "eb161164",
   "metadata": {},
   "source": [
    "### **7.4 Reading Structured Data: YAML (`.yaml`)**\n",
    "YAML (YAML Ain't Markup Language) is another popular format for structured data, prized for being more human-readable than JSON. It's very common for configuration files in data science and software development. Python does not have a built-in YAML parser, so you need to install a third-party library.\n",
    "\n",
    "**Installation:**\n",
    "```python\n",
    "!pip install pyyaml\n",
    "```\n",
    "\n",
    "**Example `settings.yaml` file:**\n",
    "```yaml\n",
    "report_settings:\n",
    "  title: \"Quarterly Performance Review\"\n",
    "  include_charts: true\n",
    "database:\n",
    "  host: \"prod.db.server.com\"\n",
    "  port: 5432\n",
    "```\n",
    "\n",
    "**Reading the YAML file:**\n",
    "```python\n",
    "import yaml\n",
    "\n",
    "with open('settings.yaml', 'r') as f:\n",
    "    # Use yaml.safe_load() to avoid potential security risks\n",
    "    settings_data = yaml.safe_load(f)\n",
    "\n",
    "# settings_data is also a standard Python dictionary!\n",
    "print(type(settings_data))\n",
    "print(f\"Report Title: {settings_data['report_settings']['title']}\")\n",
    "```"
   ]
  },
  {
   "cell_type": "markdown",
   "id": "cc0a2120",
   "metadata": {},
   "source": [
    "#### **Practice Session: Reading `.yaml`**\n",
    "First, run this cell to create `model_params.yaml`:\n",
    "```python\n",
    "# Note: You don't need to import yaml to write a yaml string\n",
    "yaml_content = \"\"\"\n",
    "model_name: \"Linear Regression\"\n",
    "version: 1.2\n",
    "parameters:\n",
    "  learning_rate: 0.01\n",
    "features:\n",
    "  - \"market_cap\"\n",
    "  - \"pe_ratio\"\n",
    "\"\"\"\n",
    "with open('model_params.yaml', 'w') as f:\n",
    "    f.write(yaml_content)\n",
    "```\n",
    "1.  **Install Library**: If you haven't already, run `!pip install pyyaml`.\n",
    "2.  **Load Parameters**: Import the `yaml` module. Open `model_params.yaml` and load its contents into a variable called `params`.\n",
    "3.  **Access Nested Data**: Print the `learning_rate` from the loaded data.\n",
    "4.  **List Features**: Access the list of `features` and use a `for` loop to print each feature."
   ]
  },
  {
   "cell_type": "code",
   "execution_count": null,
   "id": "16827354",
   "metadata": {},
   "outputs": [],
   "source": []
  }
 ],
 "metadata": {
  "kernelspec": {
   "display_name": "base",
   "language": "python",
   "name": "python3"
  },
  "language_info": {
   "codemirror_mode": {
    "name": "ipython",
    "version": 3
   },
   "file_extension": ".py",
   "mimetype": "text/x-python",
   "name": "python",
   "nbconvert_exporter": "python",
   "pygments_lexer": "ipython3",
   "version": "3.12.11"
  }
 },
 "nbformat": 4,
 "nbformat_minor": 5
}
