{
 "cells": [
  {
   "cell_type": "markdown",
   "id": "142ca386",
   "metadata": {},
   "source": [
    "## **5. Leveraging Data Structures at Scale: For / While / If-elif-else / Try-Except**\n",
    "\n",
    "We've learned how to store collections of data in lists, tuples, dictionaries, and sets. But what if your portfolio has 500 stocks instead of 4? Manually accessing `portfolio[0]`, `portfolio[1]`, `portfolio[2]`, and so on, is not practical. To work with data structures effectively—especially large ones—we need to automate repetitive tasks and make decisions within our code.\n",
    "\n",
    "This is where **control flow** statements come in. They allow us to:\n",
    "*   **Iterate**: Perform an action for every item in a collection (`for` loops).\n",
    "*   **Repeat**: Perform an action repeatedly as long as a condition is true (`while` loops).\n",
    "*   **Decide**: Execute different code blocks based on specific conditions (`if-elif-else`).\n",
    "*   **Handle Errors**: Gracefully manage code that might fail without crashing the program (`try-except`)."
   ]
  },
  {
   "cell_type": "markdown",
   "id": "196867b0",
   "metadata": {},
   "source": [
    "### **5.1 Iteration with `for` Loops**\n",
    "A **`for` loop** is the most common way to iterate over a sequence (like a list, tuple, dictionary, set, or string). It executes a block of code once for each item in the sequence.\n",
    "\n",
    "**Syntax:**\n",
    "```python\n",
    "for variable_name in sequence:\n",
    "    # Code to execute for each item\n",
    "    # This block is indented\n",
    "```\n",
    "\n",
    "#### **Looping Through a List or Tuple**\n",
    "This is the most straightforward use case. The loop assigns each item of the list to the `variable_name` one by one.\n",
    "\n",
    "```python\n",
    "portfolio_tickers = ['AAPL', 'MSFT', 'GOOG', 'JPM']\n",
    "\n",
    "print(\"Client Holdings:\")\n",
    "for ticker in portfolio_tickers:\n",
    "    print(f\"- {ticker}\")\n",
    "```\n",
    "**Output:**\n",
    "```\n",
    "Client Holdings:\n",
    "- AAPL\n",
    "- MSFT\n",
    "- GOOG\n",
    "- JPM\n",
    "```\n",
    "\n",
    "#### **Looping Through a Dictionary**\n",
    "You can loop through a dictionary's keys, values, or both.\n",
    "```python\n",
    "stock_profile = {'name': 'Apple Inc.', 'ticker': 'AAPL', 'sector': 'Technology'}\n",
    "\n",
    "# Looping through both keys and values using .items() - VERY useful!\n",
    "for key, value in stock_profile.items():\n",
    "    print(f\"{key.title()}: {value}\")\n",
    "```\n",
    "\n",
    "#### **Looping with `range()`**\n",
    "If you need to loop a specific number of times, the `range()` function is perfect.\n",
    "```python\n",
    "# Run a financial model simulation 5 times\n",
    "for i in range(5):\n",
    "    print(f\"Running simulation attempt #{i + 1}\")\n",
    "```"
   ]
  },
  {
   "cell_type": "code",
   "execution_count": 1,
   "id": "e5b8e82b",
   "metadata": {},
   "outputs": [
    {
     "name": "stdout",
     "output_type": "stream",
     "text": [
      "Running simulation attempt #1\n",
      "Running simulation attempt #2\n",
      "Running simulation attempt #3\n",
      "Running simulation attempt #4\n",
      "Running simulation attempt #5\n"
     ]
    }
   ],
   "source": [
    "for i in range(5):\n",
    "    print(f\"Running simulation attempt #{i + 1}\")"
   ]
  },
  {
   "cell_type": "markdown",
   "id": "665d9725",
   "metadata": {},
   "source": [
    "#### **Practice Session: `for` Loops**\n",
    "1.  **List Tickers**: Create a list of stock tickers: `['MSFT', 'TSLA', 'AMZN']`. Loop through the list and print each ticker.\n",
    "2.  **Sum of Prices**: Create a list of prices: `[150.5, 220.0, 130.25]`. Loop through the list and calculate the sum of all prices. Print the final sum. (Hint: Create a `total` variable initialized to 0 before the loop).\n",
    "3.  **Company Profile**: Create a dictionary `{'company': 'NVIDIA', 'price': 450.0}`. Loop through its items and print each key-value pair in the format: `\"Key -> Value\"`.\n",
    "4.  **Quarterly Reports**: Use `range()` to print the messages `\"Generating report for Q1\"`, `\"Generating report for Q2\"`, `\"Generating report for Q3\"`, and `\"Generating report for Q4\"`. (Hint: `range(1, 5)`).\n",
    "5.  **Integer summation**: Using the `range()` function, compute the sum of the integer from 1 to 50."
   ]
  },
  {
   "cell_type": "code",
   "execution_count": 2,
   "id": "28f6d999",
   "metadata": {},
   "outputs": [
    {
     "name": "stdout",
     "output_type": "stream",
     "text": [
      "MSFT\n",
      "TSLA\n",
      "AMZN\n"
     ]
    }
   ],
   "source": [
    "ticker_list = ['MSFT', 'TSLA', 'AMZN']\n",
    "\n",
    "for ticker in ticker_list:\n",
    "    print(ticker)"
   ]
  },
  {
   "cell_type": "code",
   "execution_count": null,
   "id": "c8bbb4d9",
   "metadata": {},
   "outputs": [
    {
     "name": "stdout",
     "output_type": "stream",
     "text": [
      "The ticker 0 of my portfolio is MSFT\n",
      "The ticker 1 of my portfolio is TSLA\n",
      "The ticker 2 of my portfolio is AMZN\n"
     ]
    }
   ],
   "source": [
    "for i, ticker in enumerate(ticker_list):\n",
    "    print(f\"The ticker {i} of my portfolio is {ticker}\")"
   ]
  },
  {
   "cell_type": "code",
   "execution_count": null,
   "id": "ce29fe07",
   "metadata": {},
   "outputs": [],
   "source": [
    "!pip install tqdm"
   ]
  },
  {
   "cell_type": "code",
   "execution_count": 5,
   "id": "6d99c0d1",
   "metadata": {},
   "outputs": [
    {
     "data": {
      "application/vnd.jupyter.widget-view+json": {
       "model_id": "23fe7cd1c03545d49c01cfd9946545a3",
       "version_major": 2,
       "version_minor": 0
      },
      "text/plain": [
       "  0%|          | 0/3 [00:00<?, ?it/s]"
      ]
     },
     "metadata": {},
     "output_type": "display_data"
    },
    {
     "name": "stdout",
     "output_type": "stream",
     "text": [
      "MSFT\n",
      "TSLA\n",
      "AMZN\n"
     ]
    }
   ],
   "source": [
    "from tqdm.auto import tqdm\n",
    "import time\n",
    "\n",
    "for ticker in tqdm(ticker_list):\n",
    "    print(ticker)\n",
    "    time.sleep(1)"
   ]
  },
  {
   "cell_type": "code",
   "execution_count": 6,
   "id": "e19538b2",
   "metadata": {},
   "outputs": [
    {
     "data": {
      "text/plain": [
       "500.75"
      ]
     },
     "execution_count": 6,
     "metadata": {},
     "output_type": "execute_result"
    }
   ],
   "source": [
    "stock_list = [150.5, 220.0, 130.25]\n",
    "\n",
    "total = 0\n",
    "for price in stock_list:\n",
    "    total += price\n",
    "total"
   ]
  },
  {
   "cell_type": "code",
   "execution_count": 7,
   "id": "bd692a2e",
   "metadata": {},
   "outputs": [
    {
     "data": {
      "text/plain": [
       "500.75"
      ]
     },
     "execution_count": 7,
     "metadata": {},
     "output_type": "execute_result"
    }
   ],
   "source": [
    "stock_list = [150.5, 220.0, 130.25]\n",
    "\n",
    "total = 0\n",
    "for price in stock_list:\n",
    "    total = total + price\n",
    "total"
   ]
  },
  {
   "cell_type": "code",
   "execution_count": 10,
   "id": "1a7e863a",
   "metadata": {},
   "outputs": [
    {
     "data": {
      "text/plain": [
       "500.75"
      ]
     },
     "execution_count": 10,
     "metadata": {},
     "output_type": "execute_result"
    }
   ],
   "source": [
    "total = sum(stock_list)\n",
    "total"
   ]
  },
  {
   "cell_type": "markdown",
   "id": "cada946f",
   "metadata": {},
   "source": [
    "3.  **Company Profile**: Create a dictionary `{'company': 'NVIDIA', 'price': 450.0}`. Loop through its items and print each key-value pair in the format: `\"Key -> Value\"`."
   ]
  },
  {
   "cell_type": "code",
   "execution_count": 13,
   "id": "52306ed9",
   "metadata": {},
   "outputs": [
    {
     "name": "stdout",
     "output_type": "stream",
     "text": [
      "NVIDIA -> 450.0\n",
      "AMD -> 120.0\n",
      "TSLA -> 220.0\n",
      "MSFT -> 400.0\n"
     ]
    }
   ],
   "source": [
    "portfolio = [\n",
    "    {'company': 'NVIDIA', 'price': 450.0},\n",
    "    {'company': 'AMD', 'price': 120.0},\n",
    "    {'company': 'TSLA', 'price': 220.0},\n",
    "    {'company': 'MSFT', 'price': 400.0}\n",
    "]\n",
    "\n",
    "for company in portfolio:\n",
    "    print(f\"{company['company']} -> {company['price']}\")\n",
    "    "
   ]
  },
  {
   "cell_type": "code",
   "execution_count": 14,
   "id": "258579f0",
   "metadata": {},
   "outputs": [
    {
     "name": "stdout",
     "output_type": "stream",
     "text": [
      "company -> NVIDIA\n",
      "price -> 450.0\n"
     ]
    }
   ],
   "source": [
    "company = {'company': 'NVIDIA', 'price': 450.0}\n",
    "\n",
    "for key, value in company.items():\n",
    "    print(f\"{key} -> {value}\")"
   ]
  },
  {
   "cell_type": "code",
   "execution_count": 16,
   "id": "abf1d87b",
   "metadata": {},
   "outputs": [
    {
     "name": "stdout",
     "output_type": "stream",
     "text": [
      "company : NVIDIA\n",
      "price : 450.0\n",
      "company : AMD\n",
      "price : 120.0\n",
      "company : TSLA\n",
      "price : 220.0\n",
      "company : MSFT\n",
      "price : 400.0\n"
     ]
    }
   ],
   "source": [
    "for company in portfolio:\n",
    "    for key, value in company.items():\n",
    "        print(f\"{key} : {value}\")"
   ]
  },
  {
   "cell_type": "markdown",
   "id": "b6b13371",
   "metadata": {},
   "source": [
    "\n",
    "4.  **Quarterly Reports**: Use `range()` to print the messages `\"Generating report for Q1\"`, `\"Generating report for Q2\"`, `\"Generating report for Q3\"`, and `\"Generating report for Q4\"`. (Hint: `range(1, 5)`).\n",
    "5"
   ]
  },
  {
   "cell_type": "code",
   "execution_count": 17,
   "id": "b5408577",
   "metadata": {},
   "outputs": [
    {
     "name": "stdout",
     "output_type": "stream",
     "text": [
      "Generating report for Q1\n",
      "Generating report for Q2\n",
      "Generating report for Q3\n",
      "Generating report for Q4\n"
     ]
    }
   ],
   "source": [
    "for i in range(1, 5):\n",
    "    print(f\"Generating report for Q{i}\")"
   ]
  },
  {
   "cell_type": "code",
   "execution_count": 18,
   "id": "28147069",
   "metadata": {},
   "outputs": [
    {
     "name": "stdout",
     "output_type": "stream",
     "text": [
      "Generating report for Q1 - Planned earnings : 21M€\n",
      "Generating report for Q2 - Planned earnings : 22M€\n",
      "Generating report for Q3 - Planned earnings : 20M€\n",
      "Generating report for Q4 - Planned earnings : 25M€\n"
     ]
    }
   ],
   "source": [
    "import random\n",
    "\n",
    "for i in range(1, 5):\n",
    "    print(f\"Generating report for Q{i} - Planned earnings : {random.randint(20,30)}M€\")"
   ]
  },
  {
   "cell_type": "markdown",
   "id": "793a1062",
   "metadata": {},
   "source": [
    "5.  **Integer summation**: Using the `range()` function, compute the sum of the integer from 1 to 50."
   ]
  },
  {
   "cell_type": "code",
   "execution_count": 19,
   "id": "c755315f",
   "metadata": {},
   "outputs": [
    {
     "name": "stdout",
     "output_type": "stream",
     "text": [
      "1275\n"
     ]
    }
   ],
   "source": [
    "total_sum = 0\n",
    "\n",
    "for i in range(1, 51):\n",
    "    total_sum += i\n",
    "\n",
    "print(total_sum)"
   ]
  },
  {
   "cell_type": "code",
   "execution_count": null,
   "id": "8247ea78",
   "metadata": {},
   "outputs": [],
   "source": [
    "import time\n",
    "\n",
    "time.sleep(1)"
   ]
  },
  {
   "cell_type": "code",
   "execution_count": 20,
   "id": "1a29d442",
   "metadata": {},
   "outputs": [
    {
     "data": {
      "application/vnd.jupyter.widget-view+json": {
       "model_id": "3f47a792b49c42b19bedd17cccf2370e",
       "version_major": 2,
       "version_minor": 0
      },
      "text/plain": [
       "  0%|          | 0/1000000000 [00:00<?, ?it/s]"
      ]
     },
     "metadata": {},
     "output_type": "display_data"
    },
    {
     "ename": "KeyboardInterrupt",
     "evalue": "",
     "output_type": "error",
     "traceback": [
      "\u001b[31m---------------------------------------------------------------------------\u001b[39m",
      "\u001b[31mKeyboardInterrupt\u001b[39m                         Traceback (most recent call last)",
      "\u001b[36mCell\u001b[39m\u001b[36m \u001b[39m\u001b[32mIn[20]\u001b[39m\u001b[32m, line 3\u001b[39m\n\u001b[32m      1\u001b[39m total=\u001b[32m0\u001b[39m\n\u001b[32m      2\u001b[39m \u001b[38;5;28;01mfor\u001b[39;00m i \u001b[38;5;129;01min\u001b[39;00m tqdm(\u001b[38;5;28mrange\u001b[39m(\u001b[32m1_000_000_000\u001b[39m)):\n\u001b[32m----> \u001b[39m\u001b[32m3\u001b[39m     total+=\u001b[32m1\u001b[39m\n",
      "\u001b[31mKeyboardInterrupt\u001b[39m: "
     ]
    }
   ],
   "source": [
    "total=0\n",
    "for i in tqdm(range(1_000_000_000)):\n",
    "    total+=1"
   ]
  },
  {
   "cell_type": "code",
   "execution_count": null,
   "id": "45c735f0",
   "metadata": {},
   "outputs": [],
   "source": []
  },
  {
   "cell_type": "markdown",
   "id": "b5611e10",
   "metadata": {},
   "source": [
    "### **5.2 Conditional Repetition with `while` Loops**\n",
    "A **`while` loop** repeatedly executes a block of code as long as a given condition remains `True`.\n",
    "\n",
    "**Syntax:**\n",
    "```python\n",
    "while condition_is_true:\n",
    "    # Code to execute\n",
    "    # IMPORTANT: Something inside the loop must eventually make the condition false!\n",
    "```\n",
    "`while` loops are useful when you don't know in advance how many times you need to loop. For example, trying to connect to a server until you succeed.\n",
    "\n",
    "**Example:** Depleting a budget.\n",
    "```python\n",
    "cash_on_hand = 1000\n",
    "stock_price = 150\n",
    "shares_bought = 0\n",
    "\n",
    "while cash_on_hand >= stock_price:\n",
    "    # Buy one share\n",
    "    cash_on_hand -= stock_price\n",
    "    shares_bought += 1\n",
    "    print(f\"Bought 1 share. Shares owned: {shares_bought}. Cash remaining: ${cash_on_hand}\")\n",
    "\n",
    "print(f\"\\nFinal purchase complete. Total shares bought: {shares_bought}.\")\n",
    "```\n",
    "Warning: Be careful with `while` loops. If the condition never becomes `False`, you will create an **infinite loop**, and your program will never end."
   ]
  },
  {
   "cell_type": "code",
   "execution_count": 21,
   "id": "2844a0c9",
   "metadata": {},
   "outputs": [
    {
     "name": "stdout",
     "output_type": "stream",
     "text": [
      "Bought 1 share. Shares owned: 1. Cash remaining: $850\n",
      "Bought 1 share. Shares owned: 2. Cash remaining: $700\n",
      "Bought 1 share. Shares owned: 3. Cash remaining: $550\n",
      "Bought 1 share. Shares owned: 4. Cash remaining: $400\n",
      "Bought 1 share. Shares owned: 5. Cash remaining: $250\n",
      "Bought 1 share. Shares owned: 6. Cash remaining: $100\n",
      "\n",
      "Final purchase complete. Total shares bought: 6.\n"
     ]
    }
   ],
   "source": [
    "cash_on_hand = 1000\n",
    "stock_price = 150\n",
    "shares_bought = 0\n",
    "\n",
    "while cash_on_hand >= stock_price:\n",
    "    # Buy one share\n",
    "    cash_on_hand -= stock_price\n",
    "    shares_bought += 1\n",
    "    print(f\"Bought 1 share. Shares owned: {shares_bought}. Cash remaining: ${cash_on_hand}\")\n",
    "\n",
    "print(f\"\\nFinal purchase complete. Total shares bought: {shares_bought}.\")"
   ]
  },
  {
   "cell_type": "code",
   "execution_count": 24,
   "id": "a26c4a37",
   "metadata": {},
   "outputs": [
    {
     "name": "stdout",
     "output_type": "stream",
     "text": [
      "\n",
      "Final purchase complete. Total shares bought: 6.\n"
     ]
    }
   ],
   "source": [
    "cash_on_hand = 1000\n",
    "stock_price = 150\n",
    "shares_bought = cash_on_hand // stock_price\n",
    "\n",
    "print(f\"\\nFinal purchase complete. Total shares bought: {shares_bought}.\")"
   ]
  },
  {
   "cell_type": "markdown",
   "id": "798f16ca",
   "metadata": {},
   "source": [
    "#### **Practice Session: `while` Loops**\n",
    "1.  **Countdown**: Create a variable `countdown` set to `5`. Write a `while` loop that prints the value of `countdown` and then decreases it by 1, as long as `countdown` is greater than `0`. After the loop, print \"Liftoff!\".\n"
   ]
  },
  {
   "cell_type": "code",
   "execution_count": 26,
   "id": "c08a747a",
   "metadata": {},
   "outputs": [
    {
     "name": "stdout",
     "output_type": "stream",
     "text": [
      "5\n",
      "4\n",
      "3\n",
      "2\n",
      "1\n",
      "0\n"
     ]
    }
   ],
   "source": [
    "countdown = 5\n",
    "ending_value = 0\n",
    "\n",
    "while countdown >= ending_value:\n",
    "    print(countdown)\n",
    "    time.sleep(1)\n",
    "    countdown -= 1"
   ]
  },
  {
   "cell_type": "markdown",
   "id": "290f5f87",
   "metadata": {},
   "source": [
    "2.  **Achieve Target**: You have `$800` in savings (`savings`). You want to reach a `$1200` target (`target`). You can save `$50` per month (`monthly_addition`). Write a `while` loop that adds `$50` to your savings each month until your savings are greater than or equal to the target. Count how many months it takes. Print the final number of months."
   ]
  },
  {
   "cell_type": "code",
   "execution_count": 29,
   "id": "2d5106cc",
   "metadata": {},
   "outputs": [
    {
     "name": "stdout",
     "output_type": "stream",
     "text": [
      "This month is 1\n",
      "I currently have 850\n",
      "This month is 2\n",
      "I currently have 900\n",
      "This month is 3\n",
      "I currently have 950\n",
      "This month is 4\n",
      "I currently have 1000\n",
      "This month is 5\n",
      "I currently have 1050\n",
      "This month is 6\n",
      "I currently have 1100\n",
      "This month is 7\n",
      "I currently have 1150\n",
      "This month is 8\n",
      "I currently have 1200\n",
      "Yeah, bahamas\n"
     ]
    }
   ],
   "source": [
    "savings_dollars = 800\n",
    "monthly_saving_dollars = 50\n",
    "\n",
    "target = 1200\n",
    "month = 0\n",
    "\n",
    "while savings_dollars < target:\n",
    "    month += 1\n",
    "    savings_dollars += monthly_saving_dollars\n",
    "    print(f\"This month is {month}\")\n",
    "   \n",
    "    \n",
    "    print(f\"I currently have {savings_dollars}\")\n",
    "print('Yeah, bahamas')\n"
   ]
  },
  {
   "cell_type": "markdown",
   "id": "50c3f55b",
   "metadata": {},
   "source": [
    "### **5.3 Making Decisions with `if-elif-else`**\n",
    "This structure allows your program to execute different code paths based on conditions. It's how you make your code \"smart.\"\n",
    "\n",
    "**Syntax:**\n",
    "```python\n",
    "if condition1:\n",
    "    # Execute if condition1 is True\n",
    "elif condition2:\n",
    "    # Execute if condition1 is False AND condition2 is True\n",
    "else:\n",
    "    # Execute if all preceding conditions are False\n",
    "```\n",
    "\n",
    "Let's combine this with a `for` loop to analyze our portfolio.\n",
    "```python\n",
    "portfolio = [\n",
    "    {'ticker': 'AAPL', 'sector': 'Technology', 'price': 175.25},\n",
    "    {'ticker': 'JPM', 'sector': 'Financials', 'price': 150.75},\n",
    "    {'ticker': 'XOM', 'sector': 'Energy', 'price': 110.50}\n",
    "]\n",
    "\n",
    "for stock in portfolio:\n",
    "    ticker = stock['ticker']\n",
    "    sector = stock['sector']\n",
    "    \n",
    "    if sector == 'Technology':\n",
    "        print(f\"{ticker} is a tech stock. Monitor for high volatility.\")\n",
    "    elif sector == 'Financials' or sector == 'Energy':\n",
    "        print(f\"{ticker} is in a cyclical sector. Watch the economy.\")\n",
    "    else:\n",
    "        print(f\"{ticker} is in the {sector} sector. Standard monitoring.\")\n",
    "```"
   ]
  },
  {
   "cell_type": "code",
   "execution_count": 31,
   "id": "a3898089",
   "metadata": {},
   "outputs": [
    {
     "name": "stdout",
     "output_type": "stream",
     "text": [
      "AAPL is a tech stock. Monitor for high volatility.\n",
      "JPM is in a cyclical sector. Watch the economy.\n",
      "XOM is in a cyclical sector. Watch the economy.\n",
      "LO is in the Luxury sector. Standard monitoring.\n"
     ]
    }
   ],
   "source": [
    "portfolio = [\n",
    "    {'ticker': 'AAPL', 'sector': 'Technology', 'price': 175.25},\n",
    "    {'ticker': 'JPM', 'sector': 'Financials', 'price': 150.75},\n",
    "    {'ticker': 'XOM', 'sector': 'Energy', 'price': 110.50},\n",
    "    {'ticker': 'LO', 'sector': 'Luxury', 'price': 180.50},\n",
    "]\n",
    "\n",
    "for stock in portfolio:\n",
    "    ticker = stock['ticker']\n",
    "    sector = stock['sector']\n",
    "    \n",
    "    if sector == 'Technology':\n",
    "        print(f\"{ticker} is a tech stock. Monitor for high volatility.\")\n",
    "    elif sector == 'Financials' or sector == 'Energy':\n",
    "        print(f\"{ticker} is in a cyclical sector. Watch the economy.\")\n",
    "    else:\n",
    "        print(f\"{ticker} is in the {sector} sector. Standard monitoring.\")"
   ]
  },
  {
   "cell_type": "markdown",
   "id": "b32b931a",
   "metadata": {},
   "source": [
    "#### **Practice Session: `if-elif-else`**\n",
    "1.  **Buy or Sell?**: Create a variable `stock_price` and set it to `110`. Write an `if-elif-else` statement:\n",
    "    *   If the price is less than `100`, print \"Buy signal!\".\n",
    "    *   If the price is greater than `120`, print \"Sell signal!\".\n",
    "    *   Otherwise, print \"Hold signal.\".\n",
    "    *   Change the value of `stock_price` to test all three conditions.\n",
    "2.  **Company Sizing**: Create a variable `market_cap_billions` set to `500`.\n",
    "    *   If `market_cap_billions` is greater than `1000`, print \"Mega-cap\".\n",
    "    *   If it's greater than `10`, print \"Large-cap\".\n",
    "    *   If it's greater than `2`, print \"Mid-cap\".\n",
    "    *   Otherwise, print \"Small-cap\"."
   ]
  },
  {
   "cell_type": "code",
   "execution_count": 33,
   "id": "f1bd451d",
   "metadata": {},
   "outputs": [
    {
     "name": "stdout",
     "output_type": "stream",
     "text": [
      "Hold\n"
     ]
    }
   ],
   "source": [
    "stock_price = 110\n",
    "\n",
    "if stock_price <= 100:\n",
    "    print(\"Buy signal\")\n",
    "elif stock_price > 120:\n",
    "    print(\"Sell signal\")\n",
    "else:\n",
    "    print(\"Hold\")"
   ]
  },
  {
   "cell_type": "code",
   "execution_count": 34,
   "id": "52a6bc14",
   "metadata": {},
   "outputs": [
    {
     "name": "stdout",
     "output_type": "stream",
     "text": [
      "Large-cap\n"
     ]
    }
   ],
   "source": [
    "market_cap_billions = 500\n",
    "\n",
    "if market_cap_billions >= 1000:\n",
    "    print(\"Mega-cap\")\n",
    "elif market_cap_billions >= 10:\n",
    "    print('Large-cap')\n",
    "elif market_cap_billions >= 2:\n",
    "    print('Mid-cap')\n",
    "else:\n",
    "    print('Small-cap')"
   ]
  },
  {
   "cell_type": "markdown",
   "id": "a0cb9797",
   "metadata": {},
   "source": [
    "### **5.4 Handling Errors with `try-except`**\n",
    "In the real world, data is messy. What if you try to calculate a financial ratio but the denominator is zero? Or a key is missing from a dictionary? Without error handling, your entire script will crash. The `try-except` block is your safety net.\n",
    "\n",
    "**Syntax:**\n",
    "```python\n",
    "try:\n",
    "    # Risky code that might cause an error\n",
    "    # For example, division by zero or accessing a missing key\n",
    "except ErrorType:\n",
    "    # Code to execute ONLY if that specific error occurs\n",
    "    # This block prevents the program from crashing\n",
    "```\n",
    "\n",
    "**Example:** Calculating Price-to-Earnings (P/E) ratio with imperfect data.\n",
    "```python\n",
    "stocks_data = [\n",
    "    {'ticker': 'GOOG', 'price': 135.50, 'earnings_per_share': 5.25},\n",
    "    {'ticker': 'TSLA', 'price': 250.00, 'earnings_per_share': 0}, # Earnings are zero!\n",
    "    {'ticker': 'AMZN', 'price': 130.00} # Earnings data is missing!\n",
    "]\n",
    "\n",
    "for stock in stocks_data:\n",
    "    ticker = stock['ticker']\n",
    "    print(f\"--- Analyzing {ticker} ---\")\n",
    "    try:\n",
    "        price = stock['price']\n",
    "        eps = stock['earnings_per_share'] # This might cause a KeyError\n",
    "        pe_ratio = price / eps            # This might cause a ZeroDivisionError\n",
    "        print(f\"Price: ${price}, EPS: ${eps}\")\n",
    "        print(f\"P/E Ratio: {round(pe_ratio, 2)}\")\n",
    "    except KeyError:\n",
    "        print(\"Error: 'earnings_per_share' data is missing. Cannot calculate P/E ratio.\")\n",
    "    except ZeroDivisionError:\n",
    "        print(\"Error: Earnings are zero. Cannot calculate P/E ratio.\")\n",
    "    print(\"\\n\") # Add a newline for readability\n",
    "```"
   ]
  },
  {
   "cell_type": "code",
   "execution_count": 35,
   "id": "b6dc34f5",
   "metadata": {},
   "outputs": [
    {
     "name": "stdout",
     "output_type": "stream",
     "text": [
      "--- Analyzing GOOG ---\n",
      "Price: $135.5, EPS: $5.25\n",
      "P/E Ratio: 25.81\n",
      "\n",
      "\n",
      "--- Analyzing TSLA ---\n",
      "Error: Earnings are zero. Cannot calculate P/E ratio.\n",
      "\n",
      "\n",
      "--- Analyzing AMZN ---\n",
      "Error: 'earnings_per_share' data is missing. Cannot calculate P/E ratio.\n",
      "\n",
      "\n"
     ]
    }
   ],
   "source": [
    "stocks_data = [\n",
    "    {'ticker': 'GOOG', 'price': 135.50, 'earnings_per_share': 5.25},\n",
    "    {'ticker': 'TSLA', 'price': 250.00, 'earnings_per_share': 0}, # Earnings are zero!\n",
    "    {'ticker': 'AMZN', 'price': 130.00} # Earnings data is missing!\n",
    "]\n",
    "\n",
    "for stock in stocks_data:\n",
    "    ticker = stock['ticker']\n",
    "    print(f\"--- Analyzing {ticker} ---\")\n",
    "    try:\n",
    "        price = stock['price']\n",
    "        eps = stock['earnings_per_share'] # This might cause a KeyError\n",
    "        pe_ratio = price / eps            # This might cause a ZeroDivisionError\n",
    "        print(f\"Price: ${price}, EPS: ${eps}\")\n",
    "        print(f\"P/E Ratio: {round(pe_ratio, 2)}\")\n",
    "    except KeyError:\n",
    "        print(\"Error: 'earnings_per_share' data is missing. Cannot calculate P/E ratio.\")\n",
    "    except ZeroDivisionError:\n",
    "        print(\"Error: Earnings are zero. Cannot calculate P/E ratio.\")\n",
    "    print(\"\\n\") # Add a newline for readability"
   ]
  },
  {
   "cell_type": "markdown",
   "id": "50be644f",
   "metadata": {},
   "source": [
    "#### **Practice Session: `try-except`**\n",
    "1.  **Safe Division**: Create two variables, `numerator = 10` and `denominator = 0`. Write a `try-except` block to divide them. In the `try` block, print the result. In the `except ZeroDivisionError` block, print \"Cannot divide by zero.\".\n",
    "2.  **Dictionary Lookup**: Create a dictionary `stock = {'ticker': 'IBM'}`. Write a `try-except` block that attempts to print `stock['price']`. In the `except KeyError` block, print \"Price data is not available for this stock.\"."
   ]
  },
  {
   "cell_type": "code",
   "execution_count": 40,
   "id": "6f2f3cfe",
   "metadata": {},
   "outputs": [
    {
     "name": "stdout",
     "output_type": "stream",
     "text": [
      "5.0\n"
     ]
    }
   ],
   "source": [
    "numerator = 10\n",
    "denominator = 2\n",
    "\n",
    "try:\n",
    "    result = numerator / denominator\n",
    "    print(result)\n",
    "except ZeroDivisionError:\n",
    "    print('error: division by zero')"
   ]
  },
  {
   "cell_type": "code",
   "execution_count": 45,
   "id": "1ce255b8",
   "metadata": {},
   "outputs": [],
   "source": [
    "stock = {'ticker': 'IBM'}\n",
    "\n",
    "try:\n",
    "    price = stock['price']\n",
    "except:\n",
    "    price = 0"
   ]
  },
  {
   "cell_type": "code",
   "execution_count": null,
   "id": "11032873",
   "metadata": {},
   "outputs": [],
   "source": []
  }
 ],
 "metadata": {
  "kernelspec": {
   "display_name": "base",
   "language": "python",
   "name": "python3"
  },
  "language_info": {
   "codemirror_mode": {
    "name": "ipython",
    "version": 3
   },
   "file_extension": ".py",
   "mimetype": "text/x-python",
   "name": "python",
   "nbconvert_exporter": "python",
   "pygments_lexer": "ipython3",
   "version": "3.12.11"
  }
 },
 "nbformat": 4,
 "nbformat_minor": 5
}
