{
 "cells": [
  {
   "cell_type": "markdown",
   "id": "2b84653c",
   "metadata": {},
   "source": [
    "## **6. Structuring Your Code: Functions and Classes**\n",
    "\n",
    "So far, we've written scripts that run from top to bottom. This is fine for simple tasks, but as our analysis becomes more complex, we'll find ourselves writing the same lines of code over and over again. For example, calculating a percentage return might be something we need to do for dozens of different stocks.\n",
    "\n",
    "To manage this complexity, we need to organize our code into logical, reusable blocks. This is the core principle behind **functions** and **classes**. By structuring our code, we make it:\n",
    "*   **Readable**: Easier to understand what each part of the program does.\n",
    "*   **Reusable**: We can execute the same logic multiple times without copying and pasting (the \"Don't Repeat Yourself\" or DRY principle).\n",
    "*   **Maintainable**: If we need to fix a bug or change how a calculation is done, we only need to change it in one place."
   ]
  },
  {
   "cell_type": "markdown",
   "id": "b11c93b1",
   "metadata": {},
   "source": [
    "### **6.1 Functions: Reusable Blocks of Code**\n",
    "A **function** is a named block of code that performs a specific task. You can \"call\" a function whenever you need to execute that task. Think of it like a recipe: you define the steps once, and then you can follow that recipe (call the function) anytime you want to make the dish.\n",
    "\n",
    "**Syntax:**\n",
    "```python\n",
    "def function_name(parameter1, parameter2):\n",
    "    \"\"\"\n",
    "    This is a docstring. It explains what the function does.\n",
    "    It's a good practice to include one for every function.\n",
    "    \"\"\"\n",
    "    # Code to execute is indented\n",
    "    result = parameter1 + parameter2 # Example logic\n",
    "    return result # Sends a value back to where the function was called\n",
    "```\n",
    "*   `def`: The keyword that starts a function definition.\n",
    "*   `function_name`: A descriptive name in `snake_case`.\n",
    "*   `parameters`: The inputs the function needs to do its work. These are like variables that exist only inside the function.\n",
    "*   `docstring`: An optional but highly recommended description. You can see it by running `help(function_name)`.\n",
    "*   `return`: The keyword that sends a value back from the function. If a function doesn't have a `return` statement, it automatically returns `None`.\n",
    "\n",
    "#### **Example: A Simple Financial Calculation**\n",
    "Instead of writing the return calculation formula every time, we can put it in a function."
   ]
  },
  {
   "cell_type": "code",
   "execution_count": 1,
   "id": "d27f3a1e",
   "metadata": {},
   "outputs": [],
   "source": [
    "def function_name(parameter1, parameter2):\n",
    "    \"\"\"This function does something.\n",
    "\n",
    "    Args:\n",
    "        parameter1: The first parameter.\n",
    "        parameter2: The second parameter.\n",
    "\n",
    "    Returns:\n",
    "        None\n",
    "\n",
    "    Raises:\n",
    "        None\n",
    "    \"\"\"\n",
    "    # Code to execute is indented\n",
    "    result = parameter1 + parameter2 # Example logic\n",
    "    return result # Sends a value back to where the function was called"
   ]
  },
  {
   "cell_type": "code",
   "execution_count": 6,
   "id": "69f5bd87",
   "metadata": {},
   "outputs": [
    {
     "name": "stdout",
     "output_type": "stream",
     "text": [
      "Microsoft Return: 26.95%\n",
      "Apple Return: 16.83%\n"
     ]
    }
   ],
   "source": [
    "def calculate_percentage_return(start_price=0, end_price=1):\n",
    "    \"\"\"Calculates the percentage return given a start and end price.\"\"\"\n",
    "    if start_price == 0:\n",
    "        return 0.0 # Avoid division by zero\n",
    "    \n",
    "    absolute_return = end_price - start_price\n",
    "    percentage_return = (absolute_return / start_price) * 100\n",
    "    return percentage_return\n",
    "\n",
    "# Now we can reuse it easily\n",
    "msft_return = calculate_percentage_return(start_price=225.40, end_price=286.14)\n",
    "aapl_return = calculate_percentage_return(150.00, 175.25)\n",
    "\n",
    "print(f\"Microsoft Return: {round(msft_return, 2)}%\")\n",
    "print(f\"Apple Return: {round(aapl_return, 2)}%\")"
   ]
  },
  {
   "cell_type": "markdown",
   "id": "540e9f9f",
   "metadata": {},
   "source": [
    "### **6.2 Organizing Your Code: Creating and Importing Modules**\n",
    "\n",
    "As your collection of useful functions grows, you won't want to copy and paste them into every new script or Jupyter Notebook. Python allows you to save your functions in a separate file, called a **module**, and then `import` them whenever you need them. This is how you can build your own reusable toolkit for financial analysis.\n",
    "\n",
    "This is the exact same principle behind powerful libraries like `datetime` or `numpy`—they are simply collections of pre-written functions and classes saved in files, ready for you to import.\n",
    "\n",
    "#### **Step 1: Create a Python Script (`.py` file)**\n",
    "Using your code editor (like VS Code, Spyder, or even the text editor in JupyterLab), create a new file and save it with a `.py` extension. For this example, let's call it `finance_tools.py`.\n",
    "\n",
    "**Important:** This file must be saved in the same directory as the notebook or script you plan to use it in.\n",
    "\n",
    "#### **Step 2: Define Functions in Your Module**\n",
    "Inside `finance_tools.py`, add the functions you want to reuse. There is no special syntax needed; just write them as you normally would.\n",
    "\n",
    "**Contents of `finance_tools.py`:**\n",
    "```python\n",
    "# finance_tools.py\n",
    "\n",
    "def calculate_percentage_return(start_price, end_price):\n",
    "    \"\"\"Calculates the percentage return given a start and end price.\"\"\"\n",
    "    if start_price == 0:\n",
    "        return 0.0\n",
    "    absolute_return = end_price - start_price\n",
    "    return (absolute_return / start_price) * 100\n",
    "\n",
    "def calculate_future_value(principal, rate, years, compounding_periods=1):\n",
    "    \"\"\"Calculates the future value of an investment.\"\"\"\n",
    "    fv = principal * (1 + rate / compounding_periods) ** (compounding_periods * years)\n",
    "    return fv\n",
    "\n",
    "def rule_of_72(interest_rate):\n",
    "    \"\"\"Estimates years to double an investment using the Rule of 72.\"\"\"\n",
    "    return 72 / (interest_rate * 100)\n",
    "```"
   ]
  },
  {
   "cell_type": "markdown",
   "id": "a1c04a44",
   "metadata": {},
   "source": [
    "#### **Step 3: Import and Use Your Module**\n",
    "Now, in your main script or Jupyter Notebook, you can import the functions from `finance_tools.py`. There are a few common ways to do this:\n",
    "\n",
    "**Option 1: Import the whole module**\n",
    "This is the safest and most common approach. It keeps your functions organized under the module's \"namespace.\""
   ]
  },
  {
   "cell_type": "code",
   "execution_count": 8,
   "id": "3c9dc08a",
   "metadata": {},
   "outputs": [],
   "source": [
    "import libs.finance_tools"
   ]
  },
  {
   "cell_type": "code",
   "execution_count": null,
   "id": "698d3d17",
   "metadata": {},
   "outputs": [
    {
     "name": "stdout",
     "output_type": "stream",
     "text": [
      "MSFT Return: 26.95%\n"
     ]
    }
   ],
   "source": [
    "# In your main script (e.g., analysis.ipynb)\n",
    "import finance_tools\n",
    "\n",
    "# To use a function, you must prefix it with the module name\n",
    "msft_return = finance_tools.calculate_percentage_return(225.40, 286.14)\n",
    "print(f\"MSFT Return: {msft_return:.2f}%\")"
   ]
  },
  {
   "cell_type": "markdown",
   "id": "39f89cf9",
   "metadata": {},
   "source": [
    "**Option 2: Import with an alias**\n",
    "If the module name is long, you can give it a shorter alias. This is standard practice (`import numpy as np`, `import pandas as pd`).\n"
   ]
  },
  {
   "cell_type": "code",
   "execution_count": 9,
   "id": "85a67585",
   "metadata": {},
   "outputs": [
    {
     "name": "stdout",
     "output_type": "stream",
     "text": [
      "Future Value: $1628.89\n"
     ]
    }
   ],
   "source": [
    "import finance_tools as ft\n",
    "\n",
    "# Now use the shorter alias\n",
    "fv = ft.calculate_future_value(1000, 0.05, 10)\n",
    "print(f\"Future Value: ${fv:.2f}\")"
   ]
  },
  {
   "cell_type": "markdown",
   "id": "459b2968",
   "metadata": {},
   "source": [
    "**Option 3: Import specific functions**\n",
    "If you only need one or two functions, you can import them directly. This allows you to call them without any prefix, but can lead to name conflicts if your script has another variable with the same name."
   ]
  },
  {
   "cell_type": "code",
   "execution_count": 6,
   "id": "dc08cec7",
   "metadata": {},
   "outputs": [
    {
     "name": "stdout",
     "output_type": "stream",
     "text": [
      "It will take approximately 10.3 years to double the investment.\n"
     ]
    }
   ],
   "source": [
    "from finance_tools import rule_of_72\n",
    "\n",
    "# You can call the function directly by its name\n",
    "years = rule_of_72(0.07)\n",
    "print(f\"It will take approximately {years:.1f} years to double the investment.\")"
   ]
  },
  {
   "cell_type": "code",
   "execution_count": 10,
   "id": "72256126",
   "metadata": {},
   "outputs": [],
   "source": [
    "from finance_tools import *"
   ]
  },
  {
   "cell_type": "markdown",
   "id": "cf32e644",
   "metadata": {},
   "source": [
    "#### **Functions with Default Arguments**\n",
    "You can provide a default value for a parameter. This makes the parameter optional when calling the function."
   ]
  },
  {
   "cell_type": "code",
   "execution_count": 7,
   "id": "36fb7033",
   "metadata": {},
   "outputs": [
    {
     "name": "stdout",
     "output_type": "stream",
     "text": [
      "Annual Compounding FV: $1628.89\n",
      "Monthly Compounding FV: $1647.01\n"
     ]
    }
   ],
   "source": [
    "def calculate_future_value(principal, rate, years, compounding_periods=1):\n",
    "    \"\"\"Calculates the future value of an investment with optional compounding.\"\"\"\n",
    "    fv = principal * (1 + rate / compounding_periods) ** (compounding_periods * years)\n",
    "    return fv\n",
    "\n",
    "# Using the default (annual compounding)\n",
    "annual_fv = calculate_future_value(1000, 0.05, 10) # compounding_periods defaults to 1\n",
    "\n",
    "# Specifying monthly compounding\n",
    "monthly_fv = calculate_future_value(1000, 0.05, 10, compounding_periods=12)\n",
    "\n",
    "print(f\"Annual Compounding FV: ${round(annual_fv, 2)}\")\n",
    "print(f\"Monthly Compounding FV: ${round(monthly_fv, 2)}\")"
   ]
  },
  {
   "cell_type": "markdown",
   "id": "f43f53b4",
   "metadata": {},
   "source": [
    "Practice Session 1:\n",
    "1. Standard string formating: a function that takes a first name and a last name as input, create a fstring greeting and return the greeting for printing it.\n",
    "2. Basic string cleaning: takes string as an input, lower, strips trailing and leading white space and return\n",
    "3. Advances string cleang: same as basic but remove punctuation like \",:!\" will need a for loop combined with the replace\n"
   ]
  },
  {
   "cell_type": "code",
   "execution_count": null,
   "id": "242b68f3",
   "metadata": {},
   "outputs": [],
   "source": []
  },
  {
   "cell_type": "code",
   "execution_count": null,
   "id": "340fc385",
   "metadata": {},
   "outputs": [],
   "source": []
  },
  {
   "cell_type": "markdown",
   "id": "1a78c679",
   "metadata": {},
   "source": [
    "#### **Practice Session: Functions**\n",
    "1.  **Create Your Toolkit**:\n",
    "    *   Create a new file named `my_business_tools.py`.\n",
    "    *   Inside this file, define a function `format_currency(amount)` that takes a number and returns it as a formatted string with a dollar sign and two decimal places (e.g., `150.75` becomes `'$150.75'`). Hint: use an f-string like `f'${amount:.2f}'`.\n",
    "    *   Add a second function to this file: `calculate_profit_margin(revenue, cost)`. This function should calculate `((revenue - cost) / revenue) * 100` and return the result.\n",
    "\n",
    "2.  **Import Your Toolkit**:\n",
    "    *   In your main notebook or script, import your new module using an alias: `import my_business_tools as tools`.\n",
    "\n",
    "3.  **Use Your Functions**:\n",
    "    *   Call your `format_currency` function with the number `12345.6789` and print the result.\n",
    "    *   Call your `calculate_profit_margin` function with `revenue=500000` and `cost=350000` and print the result, formatted to two decimal places.\n",
    "\n",
    "4.  **Simple Greeting**: Write a function called `greet_analyst` *directly in your notebook*. It should take a `name` as a parameter and return the string `\"Hello, {name}! Welcome to the team.\"`. Call this function and print its output. This helps distinguish between imported functions and locally defined ones."
   ]
  },
  {
   "cell_type": "code",
   "execution_count": null,
   "id": "8b73c314",
   "metadata": {},
   "outputs": [],
   "source": []
  },
  {
   "cell_type": "code",
   "execution_count": null,
   "id": "a8c817e7",
   "metadata": {},
   "outputs": [],
   "source": []
  },
  {
   "cell_type": "code",
   "execution_count": null,
   "id": "af9d4de5",
   "metadata": {},
   "outputs": [],
   "source": []
  },
  {
   "cell_type": "code",
   "execution_count": null,
   "id": "ba9e57ee",
   "metadata": {},
   "outputs": [],
   "source": []
  },
  {
   "cell_type": "markdown",
   "id": "eb19573e",
   "metadata": {},
   "source": [
    "### **6.3 Classes: Blueprints for Creating Objects**\n",
    "While functions are great for actions and calculations, we often need to represent more complex things, like a stock, a bond, or a portfolio. These things have both **data** (attributes like ticker, price, sector) and **behaviors** (methods like updating the price or calculating market value).\n",
    "\n",
    "A **class** is a blueprint for creating these things. An **object** (or **instance**) is a specific item created from that blueprint.\n",
    "\n",
    "**Analogy:**\n",
    "*   **Class**: The architectural blueprint for a house. It defines that a house will have walls, windows, and doors (attributes) and that you can open the doors or close the windows (methods).\n",
    "*   **Object**: Your specific house, built from the blueprint. It has its own unique attributes (e.g., blue walls, 10 windows) but shares the same behaviors.\n",
    "\n",
    "**Syntax:**\n",
    "```python\n",
    "class ClassName: # Class names use PascalCase (or CapWords)\n",
    "    # The __init__ method is the constructor. It runs when a new object is created.\n",
    "    def __init__(self, parameter1, parameter2):\n",
    "        # 'self' refers to the specific object being created.\n",
    "        # We assign the parameters to the object's attributes.\n",
    "        self.attribute1 = parameter1\n",
    "        self.attribute2 = parameter2\n",
    "\n",
    "    # A method is a function that belongs to the class.\n",
    "    # It must always take 'self' as the first parameter.\n",
    "    def some_behavior(self, another_parameter):\n",
    "        # This method can access the object's own attributes using self.\n",
    "        result = self.attribute1 + self.attribute2 + another_parameter\n",
    "        return result\n",
    "```\n",
    "\n",
    "#### **Example: A `Stock` Class**\n",
    "Let's model a stock holding. It has data (ticker, shares, price) and behavior (calculating its value)."
   ]
  },
  {
   "cell_type": "code",
   "execution_count": 8,
   "id": "24a0e8b0",
   "metadata": {},
   "outputs": [
    {
     "name": "stdout",
     "output_type": "stream",
     "text": [
      "Created a holding for AAPL.\n",
      "Created a holding for MSFT.\n",
      "AAPL Shares: 100\n",
      "MSFT Shares: 150\n",
      "Market value of AAPL holding: $17525.0\n",
      "Updated MSFT price to $340.0\n",
      "New market value of MSFT holding: $51000.0\n"
     ]
    }
   ],
   "source": [
    "class Stock:\n",
    "    \"\"\"A blueprint for representing a single stock holding.\"\"\"\n",
    "    def __init__(self, ticker, shares, price):\n",
    "        self.ticker = ticker\n",
    "        self.shares = shares\n",
    "        self.price = price\n",
    "        print(f\"Created a holding for {self.ticker}.\")\n",
    "\n",
    "    def update_price(self, new_price):\n",
    "        \"\"\"Updates the stock's current price.\"\"\"\n",
    "        self.price = new_price\n",
    "        print(f\"Updated {self.ticker} price to ${self.price}\")\n",
    "\n",
    "    def get_market_value(self):\n",
    "        \"\"\"Calculates and returns the total market value of the holding.\"\"\"\n",
    "        return self.shares * self.price\n",
    "\n",
    "# --- Using the class to create objects ---\n",
    "\n",
    "# Create two different stock objects (instances of the Stock class)\n",
    "stock_aapl = Stock('AAPL', 100, 175.25)\n",
    "stock_msft = Stock('MSFT', 150, 330.50)\n",
    "\n",
    "# Each object has its own data\n",
    "print(f\"AAPL Shares: {stock_aapl.shares}\")\n",
    "print(f\"MSFT Shares: {stock_msft.shares}\")\n",
    "\n",
    "# Call methods on the objects\n",
    "aapl_value = stock_aapl.get_market_value()\n",
    "print(f\"Market value of AAPL holding: ${aapl_value}\")\n",
    "\n",
    "stock_msft.update_price(340.00) # The price of MSFT changes\n",
    "msft_value = stock_msft.get_market_value()\n",
    "print(f\"New market value of MSFT holding: ${msft_value}\")"
   ]
  },
  {
   "cell_type": "markdown",
   "id": "99d4e61b",
   "metadata": {},
   "source": [
    "#### **Practice Session: Classes**\n",
    "1.  **Financial Product**: Create a class named `Bond`. Its `__init__` method should take `cusip`, `principal`, and `coupon_rate` as parameters and store them as attributes.\n",
    "2.  **Add Behavior**: Add a method to your `Bond` class called `calculate_annual_interest`. It should take no parameters (other than `self`) and return the annual interest payment (`principal` * `coupon_rate`).\n",
    "3.  **Create Instances**: Create two `Bond` objects:\n",
    "    *   A Treasury bond with CUSIP `'912828U69'`, principal `$1000`, and coupon rate `0.04`.\n",
    "    *   A corporate bond with CUSIP `'037833100'`, principal `$5000`, and coupon rate `0.055`.\n",
    "4.  **Calculate Payments**: Call the `calculate_annual_interest` method on both of your bond objects and print the results."
   ]
  }
 ],
 "metadata": {
  "kernelspec": {
   "display_name": "base",
   "language": "python",
   "name": "python3"
  },
  "language_info": {
   "codemirror_mode": {
    "name": "ipython",
    "version": 3
   },
   "file_extension": ".py",
   "mimetype": "text/x-python",
   "name": "python",
   "nbconvert_exporter": "python",
   "pygments_lexer": "ipython3",
   "version": "3.12.11"
  }
 },
 "nbformat": 4,
 "nbformat_minor": 5
}
