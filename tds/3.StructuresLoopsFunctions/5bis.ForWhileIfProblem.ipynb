{
 "cells": [
  {
   "cell_type": "markdown",
   "id": "745d41e7",
   "metadata": {},
   "source": [
    "### **Problem: Comprehensive Portfolio Risk Analysis**\n",
    "#### **Scenario**\n",
    "Your manager wants a more detailed risk report for a client's portfolio. You need to loop through the holdings, categorize each stock by its risk profile based on its sector, and calculate its valuation (P/E ratio). Some of the data might be incomplete or contain values that could cause calculation errors.\n",
    "\n",
    "Your task is to write a script that can process the entire portfolio without crashing and produce a clean, formatted report.\n",
    "\n",
    "#### **Given Data**\n",
    "```python\n",
    "portfolio_holdings = [\n",
    "    {'ticker': 'NVDA', 'sector': 'Technology', 'price': 450.75, 'eps': 8.25},\n",
    "    {'ticker': 'JPM', 'sector': 'Financials', 'price': 155.20, 'eps': 12.10},\n",
    "    {'ticker': 'PFE', 'sector': 'Healthcare', 'price': 35.50, 'eps': 2.50},\n",
    "    {'ticker': 'STARTUP_CO', 'sector': 'Technology', 'price': 10.00, 'eps': 0},\n",
    "    {'ticker': 'DATA_CORP', 'sector': 'Business Services', 'price': 120.00}\n",
    "]\n",
    "```\n",
    "*EPS stands for Earnings Per Share.*\n",
    "\n",
    "#### **Your Task**\n",
    "1.  **Initialize Report Variables:**\n",
    "    *   Create an empty string variable called `risk_report`. You will gradually add formatted text to this string.\n",
    "    *   Add a title to the `risk_report`: `Portfolio Risk and Valuation Report\\n-----------------------------------\\n\\n`.\n",
    "\n",
    "2.  **Loop and Analyze:**\n",
    "    *   Create a `for` loop to iterate through each `stock` dictionary in the `portfolio_holdings` list.\n",
    "    *   Inside the loop, for each stock, perform the following analysis and append the results to your `risk_report` string.\n",
    "\n",
    "3.  **Risk Categorization (using `if-elif-else`):**\n",
    "    *   Check the stock's `'sector'`.\n",
    "    *   If the sector is `'Technology'`, the `risk_category` is `\"High Growth / High Risk\"`.\n",
    "    *   If the sector is `'Financials'` or `'Healthcare'`, the `risk_category` is `\"Moderate Risk / Stable\"`.\n",
    "    *   For any other sector, the `risk_category` is `\"General / Market Risk\"`.\n",
    "    *   Append the ticker and its risk category to the `risk_report` string (e.g., `NVDA: High Growth / High Risk\\n`).\n",
    "\n",
    "4.  **Valuation Calculation (using `try-except`):**\n",
    "    *   Within the same loop, create a `try-except` block to calculate the P/E ratio (`price / eps`).\n",
    "    *   **In the `try` block:**\n",
    "        *   Access the `'price'` and `'eps'`.\n",
    "        *   Calculate the P/E ratio.\n",
    "        *   Append the formatted result to the `risk_report` string (e.g., `  - P/E Ratio: 54.64\\n`). Round the P/E ratio to two decimal places.\n",
    "    *   **In the `except` blocks:**\n",
    "        *   Handle a `KeyError` (if `eps` is missing). If it occurs, append a message like `  - P/E Ratio: N/A (EPS data missing)\\n`.\n",
    "        *   Handle a `ZeroDivisionError` (if `eps` is `0`). If it occurs, append a message like `  - P/E Ratio: N/A (Earnings are zero)\\n`.\n",
    "\n",
    "5.  **Final Output:**\n",
    "    *   After the loop has finished, print the complete `risk_report` string.\n",
    "    *   The final output should look like this:\n",
    "\n",
    "    ```\n",
    "    Portfolio Risk and Valuation Report\n",
    "    -----------------------------------\n",
    "\n",
    "    NVDA: High Growth / High Risk\n",
    "      - P/E Ratio: 54.64\n",
    "    JPM: Moderate Risk / Stable\n",
    "      - P/E Ratio: 12.83\n",
    "    PFE: Moderate Risk / Stable\n",
    "      - P/E Ratio: 14.2\n",
    "    STARTUP_CO: High Growth / High Risk\n",
    "      - P/E Ratio: N/A (Earnings are zero)\n",
    "    DATA_CORP: General / Market Risk\n",
    "      - P/E Ratio: N/A (EPS data missing)\n",
    "    ```"
   ]
  },
  {
   "cell_type": "code",
   "execution_count": null,
   "id": "c8a4c2a3",
   "metadata": {
    "vscode": {
     "languageId": "plaintext"
    }
   },
   "outputs": [],
   "source": []
  }
 ],
 "metadata": {
  "language_info": {
   "name": "python"
  }
 },
 "nbformat": 4,
 "nbformat_minor": 5
}
