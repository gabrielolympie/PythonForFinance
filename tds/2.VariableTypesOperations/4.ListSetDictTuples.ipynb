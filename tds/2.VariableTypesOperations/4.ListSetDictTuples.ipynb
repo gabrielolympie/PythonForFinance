{
 "cells": [
  {
   "cell_type": "markdown",
   "id": "e6f51393",
   "metadata": {},
   "source": [
    "## **4. Data Structures: Storing Collections of Data**\n",
    "\n",
    "So far, we've worked with variables that hold a single piece of information (one number, one string, one date). However, in the real world, data often comes in collections. For example, a list of stock prices, a portfolio of different assets, or a mapping of company tickers to their full names.\n",
    "\n",
    "**Data structures** are containers that allow us to organize and store multiple data items in a single variable. Python provides several powerful, built-in data structures. We will focus on the four most important ones: `list`, `tuple`, `dictionary`, and `set`."
   ]
  },
  {
   "cell_type": "markdown",
   "id": "46c071b5",
   "metadata": {},
   "source": [
    "### **4.1 Lists (`list`)**\n",
    "A **list** is an ordered, mutable (changeable) collection of items. Think of it as a dynamic array or a shopping list where you can add, remove, and change items after creating it.\n",
    "\n",
    "**Key Characteristics:**\n",
    "*   **Ordered**: Items maintain their position.\n",
    "*   **Mutable**: You can add, remove, or change items.\n",
    "*   **Allows Duplicates**: A list can contain the same item multiple times.\n",
    "*   **Syntax**: Defined by square brackets `[]`.\n",
    "\n",
    "#### **Creating and Accessing Lists**\n",
    "```python\n",
    "# A list of stock tickers\n",
    "portfolio = ['AAPL', 'GOOG', 'TSLA', 'MSFT']\n",
    "\n",
    "# Accessing items by index (0-based)\n",
    "first_stock = portfolio[0]  # Result: 'AAPL'\n",
    "last_stock = portfolio[-1] # Result: 'MSFT'\n",
    "\n",
    "# Slicing to get a sub-list\n",
    "tech_stocks = portfolio[0:2] # Result: ['AAPL', 'GOOG']\n",
    "\n",
    "# Reassigning a list item\n",
    "tech_stocks[0] = 'X' # Result: ['X', 'GOOG']\n",
    "```\n",
    "\n",
    "#### **Common List Methods**\n",
    "1.  **Adding Items**\n",
    "    *   `list.append(item)`: Adds an item to the end of the list.\n",
    "      ```python\n",
    "      portfolio.append('AMZN') # portfolio is now ['AAPL', 'GOOG', 'TSLA', 'MSFT', 'AMZN']\n",
    "      ```\n",
    "    *   `list.insert(index, item)`: Inserts an item at a specific position.\n",
    "      ```python\n",
    "      portfolio.insert(1, 'NVDA') # portfolio is now ['AAPL', 'NVDA', 'GOOG', 'TSLA', 'MSFT', 'AMZN']\n",
    "      ```\n",
    "    *   `list.extend(iterable)`: Adds all items from an iterable (another list, tuple, etc.) to the end of the list.\n",
    "      ```python\n",
    "      portfolio.extend(['AMZN', \"TSLA\"]) # portfolio is now ['AAPL', 'NVDA', 'GOOG', 'TSLA', 'MSFT', 'AMZN', 'AMZN','TSLA']\n",
    "      ```\n",
    "2.  **Removing Items**\n",
    "    *   `list.remove(item)`: Removes the first occurrence of an item.\n",
    "      ```python\n",
    "      portfolio.remove('TSLA')\n",
    "      ```\n",
    "    *   `list.pop(index)`: Removes and returns the item at a specific index (or the last item if no index is given).\n",
    "      ```python\n",
    "      removed_stock = portfolio.pop(2) # Removes 'GOOG'\n",
    "      ```\n",
    "3.  **Other Useful Operations**\n",
    "    *   `len(list)`: Returns the number of items in the list.\n",
    "      ```python\n",
    "      num_stocks = len(portfolio)\n",
    "      ```\n",
    "    *   `in`: Checks if an item exists in the list.\n",
    "      ```python\n",
    "      is_present = 'AAPL' in portfolio # Result: True\n",
    "      ```\n",
    "    *   `list.sort()`: Sorts the list in place.\n",
    "      ```python\n",
    "      portfolio.sort() # Sorts alphabetically\n",
    "      ```\n",
    "    *   `list.reverse()`: Reverses the list in place."
   ]
  },
  {
   "cell_type": "markdown",
   "id": "dd57ef27",
   "metadata": {},
   "source": [
    "#### **Practice Session**\n",
    "1.  **My Portfolio**: Create a list named `my_stocks` with the tickers `'MSFT'`, `'AAPL'`, and `'GOOG'`.\n",
    "2.  **Add a Stock**: Add the ticker `'TSLA'` to the end of your `my_stocks` list.\n",
    "3.  **Buy More**: Insert the ticker `'NVDA'` at the beginning of the list.\n",
    "4.  **Sell a Stock**: Remove `'AAPL'` from your portfolio.\n",
    "5.  **Portfolio Size**: Find out how many stocks are in your portfolio now.\n",
    "6.  **Check Ownership**: Check if `'GOOG'` is still in your portfolio.\n",
    "7.  **Alphabetize**: Sort your portfolio alphabetically."
   ]
  },
  {
   "cell_type": "code",
   "execution_count": 10,
   "id": "7c4056d7",
   "metadata": {},
   "outputs": [
    {
     "data": {
      "text/plain": [
       "['MSFT', 'AAPL', 'GOOG']"
      ]
     },
     "execution_count": 10,
     "metadata": {},
     "output_type": "execute_result"
    }
   ],
   "source": [
    "my_stocks = ['MSFT', 'AAPL', 'GOOG']\n",
    "my_stocks"
   ]
  },
  {
   "cell_type": "code",
   "execution_count": 11,
   "id": "f1c72317",
   "metadata": {},
   "outputs": [
    {
     "data": {
      "text/plain": [
       "['MSFT', 'AAPL', 'GOOG', 'TSLA']"
      ]
     },
     "execution_count": 11,
     "metadata": {},
     "output_type": "execute_result"
    }
   ],
   "source": [
    "my_stocks.append('TSLA')\n",
    "my_stocks"
   ]
  },
  {
   "cell_type": "code",
   "execution_count": 16,
   "id": "220481cf",
   "metadata": {},
   "outputs": [
    {
     "data": {
      "text/plain": [
       "['NVDA', 'NVDA', 'MSFT', 'GOOG', 'TSLA']"
      ]
     },
     "execution_count": 16,
     "metadata": {},
     "output_type": "execute_result"
    }
   ],
   "source": [
    "my_stocks.insert(0, 'NVDA')\n",
    "my_stocks"
   ]
  },
  {
   "cell_type": "code",
   "execution_count": 13,
   "id": "1ac74bdc",
   "metadata": {},
   "outputs": [
    {
     "data": {
      "text/plain": [
       "['NVDA', 'MSFT', 'GOOG', 'TSLA']"
      ]
     },
     "execution_count": 13,
     "metadata": {},
     "output_type": "execute_result"
    }
   ],
   "source": [
    "my_stocks.remove('AAPL')\n",
    "my_stocks"
   ]
  },
  {
   "cell_type": "code",
   "execution_count": 17,
   "id": "b8432707",
   "metadata": {},
   "outputs": [
    {
     "name": "stdout",
     "output_type": "stream",
     "text": [
      "5\n"
     ]
    }
   ],
   "source": [
    "print(len(my_stocks))"
   ]
  },
  {
   "cell_type": "code",
   "execution_count": 18,
   "id": "b1b2ca23",
   "metadata": {},
   "outputs": [
    {
     "name": "stdout",
     "output_type": "stream",
     "text": [
      "4\n"
     ]
    }
   ],
   "source": [
    "print(len(set(my_stocks)))"
   ]
  },
  {
   "cell_type": "code",
   "execution_count": 19,
   "id": "8096f112",
   "metadata": {},
   "outputs": [
    {
     "data": {
      "text/plain": [
       "True"
      ]
     },
     "execution_count": 19,
     "metadata": {},
     "output_type": "execute_result"
    }
   ],
   "source": [
    "\"GOOG\" in my_stocks"
   ]
  },
  {
   "cell_type": "code",
   "execution_count": null,
   "id": "467f6346",
   "metadata": {},
   "outputs": [
    {
     "data": {
      "text/plain": [
       "False"
      ]
     },
     "execution_count": 20,
     "metadata": {},
     "output_type": "execute_result"
    }
   ],
   "source": [
    "\"AAPL\" in my_stocks"
   ]
  },
  {
   "cell_type": "code",
   "execution_count": 21,
   "id": "6e5a9e5e",
   "metadata": {},
   "outputs": [
    {
     "data": {
      "text/plain": [
       "['GOOG', 'MSFT', 'NVDA', 'NVDA', 'TSLA']"
      ]
     },
     "execution_count": 21,
     "metadata": {},
     "output_type": "execute_result"
    }
   ],
   "source": [
    "my_stocks.sort()\n",
    "my_stocks"
   ]
  },
  {
   "cell_type": "code",
   "execution_count": null,
   "id": "aac26c9a",
   "metadata": {},
   "outputs": [],
   "source": []
  },
  {
   "cell_type": "markdown",
   "id": "e45af1b5",
   "metadata": {},
   "source": [
    "### **4.2 Tuples (`tuple`)**\n",
    "A **tuple** is an ordered, immutable (unchangeable) collection of items. Once a tuple is created, you cannot add, remove, or change its elements. This makes them useful for data that should not be modified, like coordinates, configuration settings, or fixed records.\n",
    "\n",
    "**Key Characteristics:**\n",
    "*   **Ordered**: Items maintain their position.\n",
    "*   **Immutable**: Cannot be changed after creation.\n",
    "*   **Allows Duplicates**: A tuple can contain the same item multiple times.\n",
    "*   **Syntax**: Defined by parentheses `()`.\n",
    "\n",
    "#### **Creating and Accessing Tuples**\n",
    "```python\n",
    "# A tuple for a stock's identifier (Ticker, CUSIP)\n",
    "stock_id = ('AAPL', '037833100')\n",
    "\n",
    "# Accessing is the same as lists\n",
    "ticker = stock_id[0] # Result: 'AAPL'\n",
    "\n",
    "# Slicing also works\n",
    "info = stock_id[0:2] # Result: ('AAPL', '037833100')\n",
    "```\n",
    "\n",
    "#### **Why use a tuple?**\n",
    "Because they are immutable, tuples are slightly more memory-efficient and faster to process than lists. They are often used as keys in dictionaries (which we'll see next) because keys must be unchangeable.\n",
    "\n",
    "**Tuple Unpacking**: A powerful feature is assigning the elements of a tuple to multiple variables at once.\n",
    "```python\n",
    "ticker, cusip = stock_id\n",
    "print(f\"The ticker is {ticker} and the CUSIP is {cusip}.\")\n",
    "```"
   ]
  },
  {
   "cell_type": "markdown",
   "id": "4818df4b",
   "metadata": {},
   "source": [
    "#### **Practice Session**\n",
    "1.  **Company Record**: Create a tuple named `company_record` containing a company name, ticker, and founding year (e.g., `'Apple Inc.'`, `'AAPL'`, `1976`).\n",
    "2.  **Access Data**: From `company_record`, extract the ticker into a new variable.\n",
    "3.  **Unpack Info**: Unpack the `company_record` tuple into three variables: `name`, `ticker`, and `year_founded`.\n",
    "4.  **Try to Change It**: Attempt to change the founding year in your tuple to `1977`. Observe the error you get. This demonstrates immutability."
   ]
  },
  {
   "cell_type": "code",
   "execution_count": 30,
   "id": "01022263",
   "metadata": {},
   "outputs": [
    {
     "data": {
      "text/plain": [
       "('Apple Inc.', 'AAPL', 1976)"
      ]
     },
     "execution_count": 30,
     "metadata": {},
     "output_type": "execute_result"
    }
   ],
   "source": [
    "company_record = ('Apple Inc.', 'AAPL', 1976)\n",
    "company_record"
   ]
  },
  {
   "cell_type": "code",
   "execution_count": 32,
   "id": "1e5f711e",
   "metadata": {},
   "outputs": [
    {
     "data": {
      "text/plain": [
       "'AAPL'"
      ]
     },
     "execution_count": 32,
     "metadata": {},
     "output_type": "execute_result"
    }
   ],
   "source": [
    "ticker = company_record[1]\n",
    "ticker"
   ]
  },
  {
   "cell_type": "code",
   "execution_count": 34,
   "id": "2d764ea9",
   "metadata": {},
   "outputs": [
    {
     "name": "stdout",
     "output_type": "stream",
     "text": [
      "The company name is Apple Inc., the ticker is AAPL and the founding year is 1976\n"
     ]
    }
   ],
   "source": [
    "name, ticker, year_founding = company_record\n",
    "print(f\"The company name is {name}, the ticker is {ticker} and the founding year is {year_founding}\")"
   ]
  },
  {
   "cell_type": "code",
   "execution_count": 35,
   "id": "622eaf0e",
   "metadata": {},
   "outputs": [
    {
     "ename": "TypeError",
     "evalue": "'tuple' object does not support item assignment",
     "output_type": "error",
     "traceback": [
      "\u001b[31m---------------------------------------------------------------------------\u001b[39m",
      "\u001b[31mTypeError\u001b[39m                                 Traceback (most recent call last)",
      "\u001b[36mCell\u001b[39m\u001b[36m \u001b[39m\u001b[32mIn[35]\u001b[39m\u001b[32m, line 1\u001b[39m\n\u001b[32m----> \u001b[39m\u001b[32m1\u001b[39m \u001b[43mcompany_record\u001b[49m\u001b[43m[\u001b[49m\u001b[32;43m2\u001b[39;49m\u001b[43m]\u001b[49m = \u001b[32m1624\u001b[39m\n",
      "\u001b[31mTypeError\u001b[39m: 'tuple' object does not support item assignment"
     ]
    }
   ],
   "source": [
    "company_record[2] = 1624"
   ]
  },
  {
   "cell_type": "markdown",
   "id": "7569abe9",
   "metadata": {},
   "source": [
    "### **4.3 Dictionaries (`dict`)**\n",
    "A **dictionary** is an unordered (in Python versions before 3.7) or insertion-ordered collection of **key-value** pairs. Instead of being accessed by an index number, values are accessed by a unique key. This is perfect for storing related pieces of information.\n",
    "\n",
    "**Key Characteristics:**\n",
    "*   **Key-Value Pairs**: Each item has a key and a corresponding value.\n",
    "*   **Mutable**: You can add, change, and remove key-value pairs.\n",
    "*   **Unique Keys**: All keys in a dictionary must be unique.\n",
    "*   **Syntax**: Defined by curly braces `{}` with `key: value`.\n",
    "\n",
    "#### **Creating and Accessing Dictionaries**\n",
    "```python\n",
    "# A dictionary for a single stock's data\n",
    "stock_data = {\n",
    "    'ticker': 'MSFT',\n",
    "    'company_name': 'Microsoft Corp.',\n",
    "    'price': 286.14,\n",
    "    'sector': 'Technology'\n",
    "}\n",
    "\n",
    "# Accessing a value by its key\n",
    "price = stock_data['price'] # Result: 286.14\n",
    "company = stock_data['company_name'] # Result: 'Microsoft Corp.'\n",
    "\n",
    "# Using .get() is safer as it returns None if the key doesn't exist (instead of an error)\n",
    "market_cap = stock_data.get('market_cap') # Result: None\n",
    "```\n",
    "\n",
    "#### **Common Dictionary Methods**\n",
    "1.  **Adding or Updating Items**\n",
    "    You can add a new pair or update an existing one using assignment.\n",
    "    ```python\n",
    "    stock_data['price'] = 290.50 # Updates the existing value\n",
    "    stock_data['dividend_yield'] = 0.01 # Adds a new key-value pair\n",
    "    ```\n",
    "2.  **Removing Items**\n",
    "    *   `del dict[key]`: Removes a key-value pair.\n",
    "      ```python\n",
    "      del stock_data['sector']\n",
    "      ```\n",
    "3.  **Getting Keys, Values, or Both**\n",
    "    *   `dict.keys()`: Returns a view of all keys.\n",
    "    *   `dict.values()`: Returns a view of all values.\n",
    "    *   `dict.items()`: Returns a view of all key-value pairs (as tuples).\n",
    "      ```python\n",
    "      all_keys = stock_data.keys()   # Result: dict_keys(['ticker', 'company_name', ...])\n",
    "      all_values = stock_data.values() # Result: dict_values(['MSFT', 'Microsoft Corp.', ...])\n",
    "      ```"
   ]
  },
  {
   "cell_type": "code",
   "execution_count": null,
   "id": "541646bd",
   "metadata": {},
   "outputs": [],
   "source": [
    "list(dict.keys())"
   ]
  },
  {
   "cell_type": "markdown",
   "id": "6523a578",
   "metadata": {},
   "source": [
    "#### **Practice Session**\n",
    "1.  **Stock Profile**: Create a dictionary named `aapl_profile` with keys `'ticker'`, `'name'`, and `'price'`. Set their values to `'AAPL'`, `'Apple Inc.'`, and `170.00`.\n",
    "2.  **Price Update**: Update the `'price'` in `aapl_profile` to `175.25`.\n",
    "3.  **Add Information**: Add a new key-value pair for `'sector'` with the value `'Technology'`.\n",
    "4.  **Get Company Name**: Retrieve and print only the company's name from the dictionary.\n",
    "5.  **List all Keys**: Get a list of all the data points (keys) you have for Apple."
   ]
  },
  {
   "cell_type": "code",
   "execution_count": 41,
   "id": "7250ffbe",
   "metadata": {},
   "outputs": [],
   "source": [
    "aapl_profile = {\n",
    "    'ticker': \"AAPL\",\n",
    "    'name': \"Apple Inc.\",\n",
    "    'price': 170.00,\n",
    "}"
   ]
  },
  {
   "cell_type": "code",
   "execution_count": 42,
   "id": "2787db88",
   "metadata": {},
   "outputs": [
    {
     "data": {
      "text/plain": [
       "170.0"
      ]
     },
     "execution_count": 42,
     "metadata": {},
     "output_type": "execute_result"
    }
   ],
   "source": [
    "aapl_profile['price'] "
   ]
  },
  {
   "cell_type": "code",
   "execution_count": 43,
   "id": "17cc3e4d",
   "metadata": {},
   "outputs": [],
   "source": [
    "aapl_profile['price'] = 175.25"
   ]
  },
  {
   "cell_type": "code",
   "execution_count": 44,
   "id": "8e705e7a",
   "metadata": {},
   "outputs": [],
   "source": [
    "aapl_profile['sector'] = 'Technology'"
   ]
  },
  {
   "cell_type": "code",
   "execution_count": 45,
   "id": "27ac85d2",
   "metadata": {},
   "outputs": [
    {
     "data": {
      "text/plain": [
       "{'ticker': 'AAPL',\n",
       " 'name': 'Apple Inc.',\n",
       " 'price': 175.25,\n",
       " 'sector': 'Technology'}"
      ]
     },
     "execution_count": 45,
     "metadata": {},
     "output_type": "execute_result"
    }
   ],
   "source": [
    "aapl_profile"
   ]
  },
  {
   "cell_type": "code",
   "execution_count": 47,
   "id": "252a6349",
   "metadata": {},
   "outputs": [
    {
     "data": {
      "text/plain": [
       "['ticker', 'name', 'price', 'sector']"
      ]
     },
     "execution_count": 47,
     "metadata": {},
     "output_type": "execute_result"
    }
   ],
   "source": [
    "list(aapl_profile.keys())"
   ]
  },
  {
   "cell_type": "code",
   "execution_count": 48,
   "id": "0bc11110",
   "metadata": {},
   "outputs": [
    {
     "name": "stdout",
     "output_type": "stream",
     "text": [
      "ticker: AAPL\n",
      "name: Apple Inc.\n",
      "price: 175.25\n",
      "sector: Technology\n"
     ]
    }
   ],
   "source": [
    "for key, value in aapl_profile.items():\n",
    "    print(f\"{key}: {value}\")"
   ]
  },
  {
   "cell_type": "code",
   "execution_count": null,
   "id": "bf839a96",
   "metadata": {},
   "outputs": [],
   "source": []
  },
  {
   "cell_type": "code",
   "execution_count": 49,
   "id": "4dea5741",
   "metadata": {},
   "outputs": [],
   "source": [
    "stock_profiles = {\n",
    "    'AAPL': {\n",
    "        'name': \"Apple Inc.\",\n",
    "        'price': 170.00,\n",
    "    },\n",
    "    'GOOGL': {\n",
    "        'name': \"Alphabet Inc. (Google)\",\n",
    "        'price': 135.00,\n",
    "    },\n",
    "    'MSFT': {\n",
    "        'name': \"Microsoft Corporation\",\n",
    "        'price': 310.00,\n",
    "    },\n",
    "    'TSLA': {\n",
    "        'name': \"Tesla, Inc.\",\n",
    "        'price': 180.00,\n",
    "    }\n",
    "}"
   ]
  },
  {
   "cell_type": "code",
   "execution_count": 50,
   "id": "60d54ed3",
   "metadata": {},
   "outputs": [
    {
     "data": {
      "text/plain": [
       "310.0"
      ]
     },
     "execution_count": 50,
     "metadata": {},
     "output_type": "execute_result"
    }
   ],
   "source": [
    "stock_profiles['MSFT']['price']"
   ]
  },
  {
   "cell_type": "markdown",
   "id": "6b7e8c01",
   "metadata": {},
   "source": [
    "### **4.4 Sets (`set`)**\n",
    "A **set** is an unordered, mutable collection of **unique** items. Sets are highly optimized for checking whether an item is present in the collection and for performing mathematical set operations like union, intersection, and difference.\n",
    "\n",
    "**Key Characteristics:**\n",
    "*   **Unordered**: Items do not have a defined order.\n",
    "*   **Unique**: Automatically removes duplicates.\n",
    "*   **Mutable**: You can add and remove items.\n",
    "*   **Syntax**: Defined by curly braces `{}`, but an empty set must be created with `set()`.\n",
    "\n",
    "#### **Creating and Using Sets**\n",
    "```python\n",
    "# A list with duplicate sectors\n",
    "sectors = ['Technology', 'Finance', 'Technology', 'Healthcare', 'Finance']\n",
    "\n",
    "# Creating a set automatically removes duplicates\n",
    "unique_sectors = set(sectors)\n",
    "# Result: {'Technology', 'Finance', 'Healthcare'} (order may vary)\n",
    "```\n",
    "\n",
    "#### **Common Set Operations**\n",
    "1.  **Adding and Removing**\n",
    "    *   `set.add(item)`: Adds an item.\n",
    "    *   `set.remove(item)`: Removes an item (raises an error if not found).\n",
    "    *   `set.discard(item)`: Removes an item (does nothing if not found).\n",
    "      ```python\n",
    "      unique_sectors.add('Energy')\n",
    "      unique_sectors.remove('Finance')\n",
    "      ```\n",
    "2.  **Set Mathematics**\n",
    "    Imagine two portfolios, `portfolio_A` and `portfolio_B`.\n",
    "    ```python\n",
    "    portfolio_A = {'AAPL', 'MSFT', 'GOOG'}\n",
    "    portfolio_B = {'TSLA', 'MSFT', 'AMZN'}\n",
    "    ```\n",
    "    *   **Union (`|`)**: All unique stocks from both portfolios.\n",
    "      ```python\n",
    "      all_stocks = portfolio_A | portfolio_B\n",
    "      # Result: {'AAPL', 'MSFT', 'GOOG', 'TSLA', 'AMZN'}\n",
    "      ```\n",
    "    *   **Intersection (`&`)**: Stocks that are in *both* portfolios.\n",
    "      ```python\n",
    "      common_stocks = portfolio_A & portfolio_B\n",
    "      # Result: {'MSFT'}\n",
    "      ```\n",
    "    *   **Difference (`-`)**: Stocks in A but *not* in B.\n",
    "      ```python\n",
    "      a_only_stocks = portfolio_A - portfolio_B\n",
    "      # Result: {'AAPL', 'GOOG'}\n",
    "      ```"
   ]
  },
  {
   "cell_type": "markdown",
   "id": "6148c8d3",
   "metadata": {},
   "source": [
    "#### **Practice Session**\n",
    "1.  **Unique Sectors**: Create a list of stock sectors with duplicates: `['Tech', 'Finance', 'Consumer', 'Tech', 'Finance']`. Convert this list into a set to find the unique sectors.\n",
    "2.  **My Watchlist**: Create a set called `my_watchlist` with tickers `'AAPL'`, `'NVDA'`, and `'GOOG'`.\n",
    "3.  **Friend's Watchlist**: Create another set called `friend_watchlist` with `'NVDA'`, `'TSLA'`, and `'AMZN'`.\n",
    "4.  **Common Interests**: Find the stocks that are in both your watchlist and your friend's watchlist.\n",
    "5.  **Combined Watchlist**: Create a single set containing all the unique stocks you and your friend are watching.\n",
    "6.  **My Picks Only**: Find the stocks that are on your watchlist but not on your friend's."
   ]
  },
  {
   "cell_type": "code",
   "execution_count": null,
   "id": "7c159b0b",
   "metadata": {},
   "outputs": [],
   "source": []
  },
  {
   "cell_type": "code",
   "execution_count": null,
   "id": "48cf232e",
   "metadata": {},
   "outputs": [],
   "source": []
  },
  {
   "cell_type": "code",
   "execution_count": null,
   "id": "865892ca",
   "metadata": {},
   "outputs": [],
   "source": []
  },
  {
   "cell_type": "code",
   "execution_count": null,
   "id": "a406dae7",
   "metadata": {},
   "outputs": [],
   "source": []
  },
  {
   "cell_type": "code",
   "execution_count": null,
   "id": "769fce1e",
   "metadata": {},
   "outputs": [],
   "source": []
  }
 ],
 "metadata": {
  "kernelspec": {
   "display_name": "base",
   "language": "python",
   "name": "python3"
  },
  "language_info": {
   "codemirror_mode": {
    "name": "ipython",
    "version": 3
   },
   "file_extension": ".py",
   "mimetype": "text/x-python",
   "name": "python",
   "nbconvert_exporter": "python",
   "pygments_lexer": "ipython3",
   "version": "3.12.11"
  }
 },
 "nbformat": 4,
 "nbformat_minor": 5
}
