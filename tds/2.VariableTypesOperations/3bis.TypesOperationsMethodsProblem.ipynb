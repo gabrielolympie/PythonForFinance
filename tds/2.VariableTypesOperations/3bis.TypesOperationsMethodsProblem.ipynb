{
 "cells": [
  {
   "cell_type": "markdown",
   "id": "3723a2f3",
   "metadata": {},
   "source": [
    "### **Problem: Stock return analysis**\n",
    "#### **Scenario**\n",
    "You are a junior financial analyst at a top investment firm. Your manager has asked you to perform a basic analysis of a single stock's performance over a specific period. You have been given the stock ticker, its price at the beginning of the period, its price at the end of the period, and the relevant dates.\n",
    "\n",
    "Your task is to calculate the investment holding period in days, the absolute return, the percentage return, and then compile this information into a concise summary report.\n",
    "\n",
    "#### **Given Data**\n",
    "*   **Stock Ticker:** `'MSFT'` (Microsoft Corp.)\n",
    "*   **Start Date:** `'2023-01-20'`\n",
    "*   **End Date:** `'2023-04-15'`\n",
    "*   **Starting Price:** `225.40`\n",
    "*   **Ending Price:** `286.14`\n",
    "\n",
    "#### **Your Task**\n",
    "Follow these steps sequentially to generate the final report.\n",
    "\n",
    "1.  **Create Variables:**\n",
    "    *   Create a string variable named `stock_ticker` for the stock's symbol.\n",
    "    *   Create two float variables, `start_price` and `end_price`, for the stock's prices.\n",
    "    *   Create two string variables, `start_date_str` and `end_date_str`, for the given dates.\n",
    "\n",
    "2.  **Handle the Dates:**\n",
    "    *   Import the `datetime` module.\n",
    "    *   Convert the `start_date_str` and `end_date_str` variables into `datetime` objects. Name these new variables `start_date` and `end_date`. (Hint: Use `datetime.datetime.strptime()` with the correct format code for \"YYYY-MM-DD\").\n",
    "    *   Calculate the difference between `end_date` and `start_date` to get a `timedelta` object. Store this in a variable called `investment_period`.\n",
    "    *   Extract the number of days from the `investment_period` object and store it in an integer variable named `holding_days`.\n",
    "\n",
    "3.  **Calculate the Financials:**\n",
    "    *   Calculate the absolute price change (the difference between the end price and start price). Store the result in a float variable called `absolute_return`.\n",
    "    *   Calculate the percentage return. The formula is `(absolute_return / start_price) * 100`. Store this in a float variable named `percentage_return`.\n",
    "    *   Round the `percentage_return` to two decimal places for better readability. Store this in a new variable called `formatted_return`. (Hint: Use the `round()` function).\n",
    "\n",
    "4.  **Generate the Report:**\n",
    "    *   Create a final report string using an **f-string**. This string should combine all the information you've calculated into a single, readable message.\n",
    "    *   Store the final string in a variable called `report_summary`.\n",
    "    *   The final report should look *exactly* like this:\n",
    "        ```\n",
    "        Stock Analysis Report\n",
    "        ---------------------\n",
    "        Ticker: MSFT\n",
    "        Period Analyzed: 85 days\n",
    "        Starting Price: $225.4\n",
    "        Ending Price: $286.14\n",
    "        Absolute Return: $60.74\n",
    "        Percentage Return: 26.95%\n",
    "        ```\n",
    "    *   Print the `report_summary` variable to the screen."
   ]
  },
  {
   "cell_type": "markdown",
   "id": "5918b8aa",
   "metadata": {},
   "source": []
  }
 ],
 "metadata": {
  "language_info": {
   "name": "python"
  }
 },
 "nbformat": 4,
 "nbformat_minor": 5
}
