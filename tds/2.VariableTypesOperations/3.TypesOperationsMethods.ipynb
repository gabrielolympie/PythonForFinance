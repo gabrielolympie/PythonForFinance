{
 "cells": [
  {
   "cell_type": "markdown",
   "id": "50ed0ec0",
   "metadata": {},
   "source": [
    "## **3. Types, Operations & Methods**\n",
    "Operation and methods are, in python the base of the syntax.\n",
    "\n",
    "Operations are used to perform computations on several variables, while methods are operator associated with a specific data type.\n",
    "\n",
    "Python natively supports a few operations and methods."
   ]
  },
  {
   "cell_type": "markdown",
   "id": "bf4ac39d",
   "metadata": {
    "vscode": {
     "languageId": "plaintext"
    }
   },
   "source": [
    "### **3.1 Python Data Types:**\n",
    "In Python, **data types** define the kind of value a variable can hold. Understanding these types is crucial for writing efficient and error-free code.\n",
    "\n",
    "1. **Integer (`int`)**: Whole numbers, positive or negative (e.g., `5`, `-3`).\n",
    "2. **Float (`float`)**: Decimal numbers (e.g., `3.14`, `-0.001`).\n",
    "3. **String (`str`)**: Textual data, enclosed in quotes (e.g., `\"hello\"`, `'Python'`).\n",
    "4. **Boolean (`bool`)**: Represents `True` or `False`.\n",
    "\n",
    "**Why data types**\n",
    "Data types are essential because each type has its own representation, which can be translated into binary. This translation allows Python to efficiently store and manipulate data. Additionally, the way different data types interact with each other is determined by their underlying representations."
   ]
  },
  {
   "cell_type": "markdown",
   "id": "63742e76",
   "metadata": {},
   "source": [
    "### **3.2 Strings**\n",
    "Strings (`str`) in Python are sequences of Unicode characters. Below are common operations you can perform on strings."
   ]
  },
  {
   "cell_type": "markdown",
   "id": "aa058d06",
   "metadata": {},
   "source": [
    "#### **String Operations**\n",
    "1. **Concatenation (`+`)**\n",
    "   Combines two strings.\n",
    "   ```python\n",
    "   a = \"Hello\" + \" \" + \"World\"  # Result: \"Hello World\"\n",
    "   ```\n",
    "\n",
    "2. **Repetition (`*`)**\n",
    "   Repeats a string `n` times.\n",
    "   ```python\n",
    "   a = \"Hi\" * 3  # Result: \"HiHiHi\"\n",
    "   ```\n",
    "\n",
    "3. **Length (`len()`)**\n",
    "   Returns the number of characters in a string.\n",
    "   ```python\n",
    "   a = len(\"Python\")  # Result: 6\n",
    "   ```\n",
    "\n",
    "4. **Indexing (`[]`)**\n",
    "   Accesses a character at a specific position (0-based index).\n",
    "   ```python\n",
    "   a = \"Hello\"[0]  # Result: 'H'\n",
    "   b = \"Hello\"[-1] # Result: 'o' (negative indexing)\n",
    "   ```\n",
    "\n",
    "5. **Slicing (`[start:stop:step]`)**\n",
    "   Extracts a substring.\n",
    "   ```python\n",
    "   a = \"Hello\"[1:4]   # Result: \"ell\"\n",
    "   b = \"Hello\"[::-1]  # Result: \"olleH\" (reverse)\n",
    "   ```"
   ]
  },
  {
   "cell_type": "code",
   "execution_count": null,
   "id": "86564776",
   "metadata": {},
   "outputs": [],
   "source": []
  },
  {
   "cell_type": "markdown",
   "id": "4d576dbf",
   "metadata": {},
   "source": [
    "#### **String Methods**\n",
    "1. **Case Conversion**\n",
    "   - `str.upper()`: Converts to uppercase.\n",
    "     ```python\n",
    "     a = \"hello\".upper()  # Result: \"HELLO\"\n",
    "     ```\n",
    "   - `str.lower()`: Converts to lowercase.\n",
    "     ```python\n",
    "     a = \"HELLO\".lower()  # Result: \"hello\"\n",
    "     ```\n",
    "   - `str.capitalize()`: Capitalizes the first character.\n",
    "     ```python\n",
    "     a = \"hello\".capitalize()  # Result: \"Hello\"\n",
    "     ```\n",
    "   - `str.title()`: Capitalizes the first letter of each word.\n",
    "     ```python\n",
    "     a = \"hello world\".title()  # Result: \"Hello World\"\n",
    "     ```\n",
    "\n",
    "2. **Stripping Whitespace**\n",
    "   - `str.strip()`: Removes leading/trailing whitespace.\n",
    "     ```python\n",
    "     a = \"  Hello  \".strip()  # Result: \"Hello\"\n",
    "     ```\n",
    "   - `str.lstrip()`/`str.rstrip()`: Removes left/right whitespace.\n",
    "     ```python\n",
    "     a = \"  Hello\".lstrip()  # Result: \"Hello\"\n",
    "     ```\n",
    "\n",
    "3. **Searching & Replacing**\n",
    "   - `str.find(sub)`: Returns the index of the first occurrence of `sub` (-1 if not found).\n",
    "     ```python\n",
    "     a = \"Hello\".find(\"e\")  # Result: 1\n",
    "     ```\n",
    "   - `str.replace(old, new)`: Replaces occurrences of `old` with `new`.\n",
    "     ```python\n",
    "     a = \"Hello\".replace(\"l\", \"x\")  # Result: \"Hexxo\"\n",
    "     ```\n",
    "   - `str.count(sub)`: Counts occurrences of `sub`.\n",
    "     ```python\n",
    "     a = \"Hello\".count(\"l\")  # Result: 2\n",
    "     ```\n",
    "\n",
    "4. **Checking Content**\n",
    "   - `str.startswith(prefix)`: Checks if the string starts with `prefix`.\n",
    "     ```python\n",
    "     a = \"Hello\".startswith(\"He\")  # Result: True\n",
    "     ```\n",
    "   - `str.endswith(suffix)`: Checks if the string ends with `suffix`.\n",
    "     ```python\n",
    "     a = \"Hello\".endswith(\"lo\")  # Result: True\n",
    "     ```\n",
    "   - `str.isalpha()`: Checks if all characters are alphabetic.\n",
    "     ```python\n",
    "     a = \"Hello\".isalpha()  # Result: True\n",
    "     ```\n",
    "\n",
    "5. **Splitting & Joining**\n",
    "   - `str.split(delimiter)`: Splits the string into a list.\n",
    "     ```python\n",
    "     a = \"Hello World\".split(\" \")  # Result: [\"Hello\", \"World\"]\n",
    "     ```\n",
    "   - `delimiter.join(list)`: Joins a list into a string.\n",
    "     ```python\n",
    "     a = \"-\".join([\"Hello\", \"World\"])  # Result: \"Hello-World\"\n",
    "     ```"
   ]
  },
  {
   "cell_type": "code",
   "execution_count": null,
   "id": "9f7fe5a5",
   "metadata": {},
   "outputs": [],
   "source": []
  },
  {
   "cell_type": "markdown",
   "id": "1d9950e7",
   "metadata": {},
   "source": [
    "#### **String Formatting**\n",
    "1. **f-strings (Python 3.6+)**\n",
    "   Embeds expressions inside strings.\n",
    "   ```python\n",
    "   name = \"Alice\"\n",
    "   a = f\"Hello, {name}!\"  # Result: \"Hello, Alice!\"\n",
    "   ```\n",
    "\n",
    "2. **`str.format()`**\n",
    "   Formats strings using placeholders.\n",
    "   ```python\n",
    "   a = \"Hello, {} {}!\".format(\"Alice\", \"Bob\")  # Result: \"Hello, Alice!\"\n",
    "   ```\n",
    "\n",
    "3. **`%-formatting` (Legacy)**\n",
    "   Uses `%` for substitution.\n",
    "   ```python\n",
    "   a = \"Hello, %s!\" % \"Alice\"  # Result: \"Hello, Alice!\"\n",
    "   ```"
   ]
  },
  {
   "cell_type": "code",
   "execution_count": null,
   "id": "8e8d52a8",
   "metadata": {},
   "outputs": [],
   "source": []
  },
  {
   "cell_type": "markdown",
   "id": "6f5a3b49",
   "metadata": {},
   "source": [
    "#### **Comparison Operations**\n",
    "Strings can be compared lexicographically (using Unicode values):\n",
    "```python\n",
    "a = \"apple\" == \"apple\"   # True\n",
    "b = \"apple\" < \"banana\"   # True (lex order)\n",
    "c = \"A\" < \"a\"            # True (uppercase < lowercase)\n",
    "```"
   ]
  },
  {
   "cell_type": "code",
   "execution_count": null,
   "id": "f41fba30",
   "metadata": {},
   "outputs": [],
   "source": []
  },
  {
   "cell_type": "markdown",
   "id": "15f8a36c",
   "metadata": {},
   "source": [
    "#### **Type Conversion**\n",
    "1. **`str()`**: Converts other types to strings.\n",
    "   ```python\n",
    "   a = str(123)      # Result: \"123\"\n",
    "   b = str(3.14)     # Result: \"3.14\"\n",
    "   ```\n",
    "2. **`int()`/`float()`**: Converts strings to numbers (if valid).\n",
    "   ```python\n",
    "   a = int(\"123\")    # Result: 123\n",
    "   b = float(\"3.14\") # Result: 3.14\n",
    "   ```"
   ]
  },
  {
   "cell_type": "code",
   "execution_count": null,
   "id": "2d577b57",
   "metadata": {},
   "outputs": [],
   "source": []
  },
  {
   "cell_type": "markdown",
   "id": "9a49e5d2",
   "metadata": {},
   "source": [
    "#### **Practice Session**\n",
    "1. **Greeting Generator**: Combine `\"Hello\"` and `\"Alice\"` into a greeting like `\"Hello, Alice!\"`.\n",
    "2. **Poetic Repetition**: Repeat `\"La\"` 5 times to create a poetic line (`\"La La La La La\"`).\n",
    "3. **Word Length Detective**: Find out how many letters are in the word `\"Mystery\"`.\n",
    "4. **Secret Agent**: Extract the first letter of `\"Spy\"` (hint: it’s a secret!).\n",
    "5. **Magical Slice**: Extract the first 4 letters of `\"Enchanted\"` (like a magic spell!).\n",
    "6. **Shout It Out**: Turn `\"whisper\"` into a shout (`\"WHISPER\"`).\n",
    "7. **Whisper It**: Turn `\"SHOUT\"` into a whisper (`\"shout\"`).\n",
    "8. **Word Swap**: Replace `\"old\"` with `\"new\"` in `\"The old door\"`.\n",
    "9. **Fruit Basket**: Split `\"apple,banana,cherry\"` into a list of fruits.\n",
    "10. **Fruit Salad**: Join `[\"apple\", \"banana\", \"cherry\"]` with `\" and \"` (e.g., `\"apple and banana and cherry\"`).\n",
    "11. **Treasure Hunt**: Check if `\"gold\"` is hidden in `\"X marks the spot: gold\"`.\n",
    "12. **Mystery Message**: Use an f-string to reveal `\"The treasure is buried at {location}\"` (let `location = \"island\"`).\n",
    "13. **Clean Up**: Remove extra spaces from `\"   Adventure   \"` to make it clean.\n",
    "14. **Bonus Challenge**: Reverse `\"Dragon\"` to reveal a hidden word (`\"nogarD\"`)."
   ]
  },
  {
   "cell_type": "code",
   "execution_count": 25,
   "id": "fb248679",
   "metadata": {},
   "outputs": [
    {
     "name": "stdout",
     "output_type": "stream",
     "text": [
      "Hello, Bob\n"
     ]
    }
   ],
   "source": [
    "greet = \"Hello\"\n",
    "name = \"Bob\"\n",
    "print(greet + \", \" + name)"
   ]
  },
  {
   "cell_type": "code",
   "execution_count": 7,
   "id": "6d425b10",
   "metadata": {},
   "outputs": [
    {
     "name": "stdout",
     "output_type": "stream",
     "text": [
      "La La La\n"
     ]
    }
   ],
   "source": [
    "base = \"La\"\n",
    "sep = \" \"\n",
    "num_rep = 3\n",
    "print((base + sep) * (num_rep - 1) + base)"
   ]
  },
  {
   "cell_type": "code",
   "execution_count": 9,
   "id": "72d42c2c",
   "metadata": {},
   "outputs": [
    {
     "name": "stdout",
     "output_type": "stream",
     "text": [
      "7\n"
     ]
    }
   ],
   "source": [
    "word = \"Mystery\"\n",
    "print(len(word))"
   ]
  },
  {
   "cell_type": "code",
   "execution_count": 10,
   "id": "43fa4fdc",
   "metadata": {},
   "outputs": [
    {
     "data": {
      "text/plain": [
       "'S'"
      ]
     },
     "execution_count": 10,
     "metadata": {},
     "output_type": "execute_result"
    }
   ],
   "source": [
    "word = \"Spy\"\n",
    "word[0]"
   ]
  },
  {
   "cell_type": "code",
   "execution_count": 27,
   "id": "9fe40603",
   "metadata": {},
   "outputs": [
    {
     "name": "stdout",
     "output_type": "stream",
     "text": [
      "Ench\n"
     ]
    }
   ],
   "source": [
    "word = \"Enchanted\"\n",
    "print(word[:4])"
   ]
  },
  {
   "cell_type": "code",
   "execution_count": 13,
   "id": "a01c55a3",
   "metadata": {},
   "outputs": [
    {
     "name": "stdout",
     "output_type": "stream",
     "text": [
      "WHISPER\n",
      "whisper\n"
     ]
    }
   ],
   "source": [
    "word = \"whisper\"\n",
    "shouted = word.upper()\n",
    "print(shouted)\n",
    "whispered = shouted.lower()\n",
    "print(whispered)"
   ]
  },
  {
   "cell_type": "code",
   "execution_count": 29,
   "id": "a0bf5d78",
   "metadata": {},
   "outputs": [
    {
     "name": "stdout",
     "output_type": "stream",
     "text": [
      "The new door creaked.\n"
     ]
    }
   ],
   "source": [
    "sentence = \"The old door creaked.\"\n",
    "\n",
    "word_to_replace = \"old\"\n",
    "replacement_word = \"new\"\n",
    "\n",
    "replaced = sentence.replace(\"old\", replacement_word)\n",
    "print(replaced)"
   ]
  },
  {
   "cell_type": "code",
   "execution_count": 17,
   "id": "f70a4055",
   "metadata": {},
   "outputs": [
    {
     "name": "stdout",
     "output_type": "stream",
     "text": [
      "['banana', 'cherry', 'kiwi']\n",
      "banana & cherry & kiwi\n"
     ]
    }
   ],
   "source": [
    "str_list = \"banana,cherry,kiwi\"\n",
    "splitted = str_list.split(\",\")\n",
    "print(splitted)\n",
    "joined = \" & \".join(splitted)\n",
    "print(joined)"
   ]
  },
  {
   "cell_type": "code",
   "execution_count": null,
   "id": "a1584e6e",
   "metadata": {},
   "outputs": [
    {
     "name": "stdout",
     "output_type": "stream",
     "text": [
      "False\n"
     ]
    }
   ],
   "source": [
    "sentence = \"X marks the spot: gold\"\n",
    "target = \"petrol\"\n",
    "print(sentence.index(target))\n",
    "\n",
    "## Alternative\n",
    "print(target in sentence)"
   ]
  },
  {
   "cell_type": "code",
   "execution_count": null,
   "id": "d9851e16",
   "metadata": {},
   "outputs": [
    {
     "name": "stdout",
     "output_type": "stream",
     "text": [
      "Treasury at gold is now open.\n"
     ]
    }
   ],
   "source": [
    "location = \"gold\"\n",
    "formatted_sentence = f\"Treasury at {location} is now open.\"\n",
    "\n",
    "print(formatted_sentence)"
   ]
  },
  {
   "cell_type": "code",
   "execution_count": 23,
   "id": "bdfd4b9f",
   "metadata": {},
   "outputs": [
    {
     "name": "stdout",
     "output_type": "stream",
     "text": [
      "Adventure\n"
     ]
    }
   ],
   "source": [
    "word_to_clean = \"   Adventure   \"\n",
    "print(word_to_clean.strip())"
   ]
  },
  {
   "cell_type": "code",
   "execution_count": 24,
   "id": "4666ae29",
   "metadata": {},
   "outputs": [
    {
     "name": "stdout",
     "output_type": "stream",
     "text": [
      "nogarD\n"
     ]
    }
   ],
   "source": [
    "word_to_reverse = \"Dragon\"\n",
    "print(word_to_reverse[::-1])"
   ]
  },
  {
   "cell_type": "markdown",
   "id": "c004d5b7",
   "metadata": {},
   "source": [
    "### **3.3 Numerical Data**\n",
    "\n",
    "In Python, you can perform a variety of standard operations on integers (`int`) and floating-point numbers (`float`). Here are the most common operations:"
   ]
  },
  {
   "cell_type": "markdown",
   "id": "034de3d5",
   "metadata": {},
   "source": [
    "#### **Arithmetic Operations**\n",
    "1. **Addition (`+`)**\n",
    "   Adds two numbers.\n",
    "   ```python\n",
    "   a = 5 + 3  # Result: 8\n",
    "   b = 2.5 + 1.5  # Result: 4.0\n",
    "   ```\n",
    "\n",
    "2. **Subtraction (`-`)**\n",
    "   Subtracts the second number from the first.\n",
    "   ```python\n",
    "   a = 5 - 3  # Result: 2\n",
    "   b = 2.5 - 1.5  # Result: 1.0\n",
    "   ```\n",
    "\n",
    "3. **Multiplication (`*`)**\n",
    "   Multiplies two numbers.\n",
    "   ```python\n",
    "   a = 5 * 3  # Result: 15\n",
    "   b = 2.5 * 1.5  # Result: 3.75\n",
    "   ```\n",
    "\n",
    "4. **Division (`/`)**\n",
    "   Divides the first number by the second and returns a float.\n",
    "   ```python\n",
    "   a = 5 / 2  # Result: 2.5\n",
    "   b = 2.5 / 1.5  # Result: 1.6666666666666667\n",
    "   ```\n",
    "\n",
    "5. **Floor Division (`//`)**\n",
    "   Euclidean division\n",
    "   ```python\n",
    "   n = a * p + b\n",
    "   a = n // p\n",
    "   b = n % p\n",
    "   ```\n",
    "\n",
    "   Divides the first number by the second and returns the largest integer less than or equal to the result.\n",
    "   ```python\n",
    "   a = 5 // 2  # Result: 2\n",
    "   b = 2.5 // 1.5  # Result: 1.0\n",
    "   ```\n",
    "\n",
    "6. **Modulus (`%`)**\n",
    "   Returns the remainder of the division.\n",
    "   ```python\n",
    "   a = 5 % 2  # Result: 1\n",
    "   b = 2.5 % 1.5  # Result: 0.5\n",
    "   ```\n",
    "\n",
    "7. **Exponentiation (`**`)**\n",
    "   Raises the first number to the power of the second.\n",
    "   ```python\n",
    "   a = 2 ** 3  # Result: 8\n",
    "   b = 2.5 ** 1.5  # Result: 3.948909691530873\n",
    "   ```"
   ]
  },
  {
   "cell_type": "code",
   "execution_count": null,
   "id": "52e54534",
   "metadata": {},
   "outputs": [
    {
     "data": {
      "text/plain": [
       "5.0"
      ]
     },
     "execution_count": 32,
     "metadata": {},
     "output_type": "execute_result"
    }
   ],
   "source": []
  },
  {
   "cell_type": "code",
   "execution_count": null,
   "id": "5c6e630c",
   "metadata": {},
   "outputs": [
    {
     "data": {
      "text/plain": [
       "7.38905609893065"
      ]
     },
     "execution_count": 33,
     "metadata": {},
     "output_type": "execute_result"
    }
   ],
   "source": []
  },
  {
   "cell_type": "code",
   "execution_count": null,
   "id": "a2823c84",
   "metadata": {},
   "outputs": [],
   "source": []
  },
  {
   "cell_type": "markdown",
   "id": "745b7242",
   "metadata": {},
   "source": [
    "#### **Comparison Operations**\n",
    "1. **Equal to (`==`)**\n",
    "   Checks if two numbers are equal.\n",
    "   ```python\n",
    "   a = 5 == 3  # Result: False\n",
    "   b = 2.5 == 2.5  # Result: True\n",
    "   ```\n",
    "\n",
    "2. **Not equal to (`!=`)**\n",
    "   Checks if two numbers are not equal.\n",
    "   ```python\n",
    "   5 != 3  # Result: True\n",
    "   b = 2.5 != 2.5  # Result: False\n",
    "   ```\n",
    "\n",
    "3. **Greater than (`>`)**\n",
    "   Checks if the first number is greater than the second.\n",
    "   ```python\n",
    "   a = 5 > 3  # Result: True\n",
    "   b = 2.5 > 1.5  # Result: True\n",
    "   ```\n",
    "\n",
    "4. **Less than (`<`)**\n",
    "   Checks if the first number is less than the second.\n",
    "   ```python\n",
    "   a = 5 < 3  # Result: False\n",
    "   b = 2.5 < 1.5  # Result: False\n",
    "   ```\n",
    "\n",
    "5. **Greater than or equal to (`>=`)**\n",
    "   Checks if the first number is greater than or equal to the second.\n",
    "   ```python\n",
    "   a = 5 >= 3  # Result: True\n",
    "   b = 2.5 >= 1.5  # Result: True\n",
    "   ```\n",
    "\n",
    "6. **Less than or equal to (`<=`)**\n",
    "   Checks if the first number is less than or equal to the second.\n",
    "   ```python\n",
    "   a = 5 <= 3  # Result: False\n",
    "   b = 2.5 <= 1.5  # Result: False\n",
    "   ```\n",
    "\n",
    "#### **Assignment Operations**\n",
    "1. **Assignment (`=`)**\n",
    "   Assigns a value to a variable.\n",
    "   ```python\n",
    "   a = 5\n",
    "   b = 2.5\n",
    "   ```\n",
    "\n",
    "2. **Addition assignment (`+=`)**\n",
    "   Adds the right operand to the left operand and assigns the result to the left operand.\n",
    "   ```python\n",
    "   a = 5\n",
    "   a += 3  # Result: 8\n",
    "   ```\n",
    "\n",
    "3. **Subtraction assignment (`-=`)**\n",
    "   Subtracts the right operand from the left operand and assigns the result to the left operand.\n",
    "   ```python\n",
    "   a = 5\n",
    "   a -= 3  # Result: 2\n",
    "   ```\n",
    "\n",
    "4. **Multiplication assignment (`*=`)**\n",
    "   Multiplies the right operand with the left operand and assigns the result to the left operand.\n",
    "   ```python\n",
    "   a = 5\n",
    "   a *= 3  # Result: 15\n",
    "   ```\n",
    "\n",
    "5. **Division assignment (`/=`)**\n",
    "   Divides the left operand by the right operand and assigns the result to the left operand.\n",
    "   ```python\n",
    "   a = 5\n",
    "   a /= 2  # Result: 2.5\n",
    "   ```\n",
    "\n",
    "6. **Floor division assignment (`//=`)**\n",
    "   Performs floor division on the left operand by the right operand and assigns the result to the left operand.\n",
    "   ```python\n",
    "   a = 5\n",
    "   a //= 2  # Result: 2\n",
    "   ```\n",
    "\n",
    "7. **Modulus assignment (`%=`)**\n",
    "   Takes the modulus using the right operand and assigns the result to the left operand.\n",
    "   ```python\n",
    "   a = 5\n",
    "   a %= 2  # Result: 1\n",
    "   ```\n",
    "\n",
    "8. **Exponentiation assignment (`**=`)**\n",
    "   Performs exponentiation on the left operand using the right operand and assigns the result to the left operand.\n",
    "   ```python\n",
    "   a = 2\n",
    "   a **= 3  # Result: 8\n",
    "   ```"
   ]
  },
  {
   "cell_type": "code",
   "execution_count": null,
   "id": "4e29017d",
   "metadata": {},
   "outputs": [],
   "source": []
  },
  {
   "cell_type": "markdown",
   "id": "fa14ff73",
   "metadata": {},
   "source": [
    "#### **Practice Session**\n",
    "1. **Addition**: Add `5` and `3` and print the result.\n",
    "2. **Subtraction**: Subtract `4` from `10` and print the result.\n",
    "3. **Multiplication**: Multiply `6` by `3` and print the result.\n",
    "4. **Division**: Divide `10` by `2` and print the result.\n",
    "5. **Floor Division**: Perform floor division on `10` and `3` and print the result.\n",
    "6. **Modulus**: Find the remainder when dividing `10` by `3` and print it.\n",
    "7. **Exponentiation**: Raise `2` to the power of `3` and print the result.\n",
    "8. **Equal to**: Check if `5` is equal to `5` and print the result.\n",
    "9. **Greater than**: Check if `7` is greater than `3` and print the result.\n",
    "10. **Assignment Operations**: Use `+=` to add `5` to `3` and print the result.\n",
    "11. **Absolute Value**: Find the absolute value of `-5` and print it.\n",
    "12. **Rounding**: Round `3.7` to the nearest integer and print the result.\n",
    "13. **Type Conversion**: Convert `5.9` to an integer and print it.\n",
    "14. **Bonus Challenge**: Calculate the area of a circle with radius `3` (use `3.14` for π)."
   ]
  },
  {
   "cell_type": "code",
   "execution_count": 34,
   "id": "6a38d273",
   "metadata": {},
   "outputs": [
    {
     "name": "stdout",
     "output_type": "stream",
     "text": [
      "8\n"
     ]
    }
   ],
   "source": [
    "first_integer = 5\n",
    "second_integer = 3\n",
    "print(first_integer + second_integer)"
   ]
  },
  {
   "cell_type": "code",
   "execution_count": 36,
   "id": "498b51ed",
   "metadata": {},
   "outputs": [
    {
     "name": "stdout",
     "output_type": "stream",
     "text": [
      "The result of the multiplication of 5 and 3 is 15\n",
      "The result of the division of 5 and 3 is 1.6666666666666667\n",
      "The result of the floor division of 5 and 3 is 1\n",
      "The result of the modulus of 5 and 3 is 2\n"
     ]
    }
   ],
   "source": [
    "first_integer = 5\n",
    "second_integer = 3\n",
    "\n",
    "print(f\"The result of the multiplication of {first_integer} and {second_integer} is {first_integer * second_integer}\")\n",
    "print(f\"The result of the division of {first_integer} and {second_integer} is {first_integer / second_integer}\")\n",
    "print(f\"The result of the floor division of {first_integer} and {second_integer} is {first_integer // second_integer}\")\n",
    "print(f\"The result of the modulus of {first_integer} and {second_integer} is {first_integer % second_integer}\")"
   ]
  },
  {
   "cell_type": "code",
   "execution_count": 37,
   "id": "93e1d738",
   "metadata": {},
   "outputs": [
    {
     "data": {
      "text/plain": [
       "81"
      ]
     },
     "execution_count": 37,
     "metadata": {},
     "output_type": "execute_result"
    }
   ],
   "source": [
    "integer_value = 3\n",
    "power = 4\n",
    "\n",
    "3**4"
   ]
  },
  {
   "cell_type": "code",
   "execution_count": 56,
   "id": "f1f8dfcc",
   "metadata": {},
   "outputs": [
    {
     "name": "stdout",
     "output_type": "stream",
     "text": [
      "True\n",
      "False\n",
      "False\n",
      "True\n"
     ]
    }
   ],
   "source": [
    "first = 3\n",
    "second = 3\n",
    "third = 4\n",
    "\n",
    "print(first == second)\n",
    "print(first == third)\n",
    "\n",
    "print(first > third)\n",
    "\n",
    "first += 3\n",
    "print(first > third)"
   ]
  },
  {
   "cell_type": "markdown",
   "id": "f93d4b78",
   "metadata": {},
   "source": [
    "11. **Absolute Value**: Find the absolute value of `-5` and print it.\n",
    "12. **Rounding**: Round `3.7` to the nearest integer and print the result.\n",
    "13. **Type Conversion**: Convert `5.9` to an integer and print it.\n",
    "14. **Bonus Challenge**: Calculate the area of a circle with radius `3` (use `3.14` for π)."
   ]
  },
  {
   "cell_type": "code",
   "execution_count": 41,
   "id": "0e86df9b",
   "metadata": {},
   "outputs": [
    {
     "data": {
      "text/plain": [
       "5"
      ]
     },
     "execution_count": 41,
     "metadata": {},
     "output_type": "execute_result"
    }
   ],
   "source": [
    "variable = - 5\n",
    "variable = abs(variable)\n",
    "variable"
   ]
  },
  {
   "cell_type": "code",
   "execution_count": 44,
   "id": "9bb50ffa",
   "metadata": {},
   "outputs": [
    {
     "data": {
      "text/plain": [
       "(3.0, 4.0)"
      ]
     },
     "execution_count": 44,
     "metadata": {},
     "output_type": "execute_result"
    }
   ],
   "source": [
    "variable1 = 3.4\n",
    "variable2 = 3.6\n",
    "\n",
    "round(variable1, 0), round(variable2, 0)\n"
   ]
  },
  {
   "cell_type": "code",
   "execution_count": 46,
   "id": "b3b3b15a",
   "metadata": {},
   "outputs": [
    {
     "data": {
      "text/plain": [
       "28.26"
      ]
     },
     "execution_count": 46,
     "metadata": {},
     "output_type": "execute_result"
    }
   ],
   "source": [
    "radius = 3\n",
    "\n",
    "area = 3.14 * radius ** 2\n",
    "area"
   ]
  },
  {
   "cell_type": "code",
   "execution_count": 47,
   "id": "12abb596",
   "metadata": {},
   "outputs": [
    {
     "data": {
      "text/plain": [
       "3.141592653589793"
      ]
     },
     "execution_count": 47,
     "metadata": {},
     "output_type": "execute_result"
    }
   ],
   "source": [
    "import math\n",
    "math.pi"
   ]
  },
  {
   "cell_type": "markdown",
   "id": "4e0a7d22",
   "metadata": {},
   "source": [
    "### **3.4 Booleans**\n",
    "In Python, a **Boolean** is a data type that can only have one of two values: `True` or `False`. Booleans are fundamental for control flow and logic in programming, representing conditions that are either met or not.\n",
    "\n",
    "#### **Key Characteristics of Booleans:**\n",
    "1.  **Two Values**: `True` and `False`.\n",
    "2.  **Case-Sensitive**: `True` and `False` must be capitalized.\n",
    "3.  **Logical Operations**: Used with `and`, `or`, `not` to combine or invert conditions.\n",
    "4.  **Comparison Results**: All comparison operations (e.g., `==`, `>`, `<`) return a Boolean value.\n"
   ]
  },
  {
   "cell_type": "markdown",
   "id": "77f9eda1",
   "metadata": {},
   "source": [
    "#### **Boolean Operations**\n",
    "1.  **Logical `and` / `&` **\n",
    "    Returns `True` if both operands are `True`.\n",
    "    ```python\n",
    "    a = True and False  # Result: False\n",
    "    b = (5 > 3) & (10 < 20) # Result: True\n",
    "    ```\n",
    "\n",
    "2.  **Logical `or` / `|` **\n",
    "    Returns `True` if at least one operand is `True`.\n",
    "    ```python\n",
    "    a = True or False   # Result: True\n",
    "    b = (5 > 10) or (10 < 20) # Result: True\n",
    "    ```\n",
    "\n",
    "3.  **Logical `not`**\n",
    "    Inverts the Boolean value.\n",
    "    ```python\n",
    "    a = not True        # Result: False\n",
    "    b = not(5 == 5)    # Result: False\n",
    "    ```"
   ]
  },
  {
   "cell_type": "code",
   "execution_count": null,
   "id": "ebc4d553",
   "metadata": {},
   "outputs": [],
   "source": []
  },
  {
   "cell_type": "markdown",
   "id": "f6970653",
   "metadata": {},
   "source": [
    "#### **Comparison Operations**\n",
    "As seen with numerical data, comparison operators yield Boolean results.\n",
    "1.  **Equal to (`==`)**\n",
    "    ```python\n",
    "    a = (5 == 5)  # Result: True\n",
    "    ```\n",
    "2.  **Not equal to (`!=`)**\n",
    "    ```python\n",
    "    a = (5 != 10) # Result: True\n",
    "    ```\n",
    "3.  **Greater than (`>`), Less than (`<`), Greater than or equal to (`>=`), Less than or equal to (`<=`)**\n",
    "    These also return `True` or `False`.\n",
    "    ```python\n",
    "    a = (10 > 5)  # Result: True\n",
    "    b = (5 <= 5)  # Result: True\n",
    "    ```"
   ]
  },
  {
   "cell_type": "code",
   "execution_count": null,
   "id": "01d8ebc2",
   "metadata": {},
   "outputs": [],
   "source": []
  },
  {
   "cell_type": "markdown",
   "id": "f5ba85ac",
   "metadata": {},
   "source": [
    "#### **Type Conversion**\n",
    "1.  **`bool()`**: Converts other types to Booleans.\n",
    "    -   Numbers: `0`, `0.0` become `False`; any other number becomes `True`.\n",
    "    -   Strings: Empty string `\"\"` becomes `False`; any other string becomes `True`.\n",
    "    -   Other types: Empty collections (e.g., `[]`, `{}`, `()`) become `False`; non-empty collections become `True`. `None` becomes `False`.\n",
    "    ```python\n",
    "    a = bool(1)         # Result: True\n",
    "    b = bool(0)         # Result: False\n",
    "    c = bool(\"hello\")   # Result: True\n",
    "    d = bool(\"\")        # Result: False\n",
    "    e = bool([])        # Result: False\n",
    "    ```"
   ]
  },
  {
   "cell_type": "code",
   "execution_count": null,
   "id": "6d338dad",
   "metadata": {},
   "outputs": [],
   "source": []
  },
  {
   "cell_type": "markdown",
   "id": "3ee4227f",
   "metadata": {},
   "source": [
    "#### **Practice Session**\n",
    "1.  **True or False**: Assign `True` to a variable `is_sunny` and `False` to `is_raining`.\n",
    "2.  **Logical AND**: Check if it's both sunny and not raining.\n",
    "3.  **Logical OR**: Check if it's either sunny or raining.\n",
    "4.  **Logical NOT**: Invert the value of `is_sunny`.\n",
    "5.  **Comparison**: Check if `10` is greater than `5` AND `5` is less than `2`.\n",
    "6.  **Truthiness of Numbers**: Convert `0` and `100` to Booleans.\n",
    "7.  **Truthiness of Strings**: Convert an empty string `\"\"` and `\"Python\"` to Booleans.\n",
    "8.  **Bonus Challenge**: A user is `is_logged_in = True` and has `has_permission = False`. Check if the user is logged in AND has permission. Then, check if the user is logged in OR has permission."
   ]
  },
  {
   "cell_type": "markdown",
   "id": "0a6b1dfc",
   "metadata": {},
   "source": []
  },
  {
   "cell_type": "code",
   "execution_count": 52,
   "id": "3ff17099",
   "metadata": {},
   "outputs": [],
   "source": [
    "is_sunny = True\n",
    "is_raining = False"
   ]
  },
  {
   "cell_type": "code",
   "execution_count": 53,
   "id": "aaec83f2",
   "metadata": {},
   "outputs": [
    {
     "data": {
      "text/plain": [
       "False"
      ]
     },
     "execution_count": 53,
     "metadata": {},
     "output_type": "execute_result"
    }
   ],
   "source": [
    "is_sunny & is_raining"
   ]
  },
  {
   "cell_type": "code",
   "execution_count": 54,
   "id": "1dff2410",
   "metadata": {},
   "outputs": [
    {
     "data": {
      "text/plain": [
       "True"
      ]
     },
     "execution_count": 54,
     "metadata": {},
     "output_type": "execute_result"
    }
   ],
   "source": [
    "is_sunny | is_raining"
   ]
  },
  {
   "cell_type": "code",
   "execution_count": 55,
   "id": "65f78e4c",
   "metadata": {},
   "outputs": [
    {
     "data": {
      "text/plain": [
       "False"
      ]
     },
     "execution_count": 55,
     "metadata": {},
     "output_type": "execute_result"
    }
   ],
   "source": [
    "not is_sunny"
   ]
  },
  {
   "cell_type": "code",
   "execution_count": 57,
   "id": "6e8617f5",
   "metadata": {},
   "outputs": [
    {
     "data": {
      "text/plain": [
       "False"
      ]
     },
     "execution_count": 57,
     "metadata": {},
     "output_type": "execute_result"
    }
   ],
   "source": [
    "(first > third) & (second > third) "
   ]
  },
  {
   "cell_type": "code",
   "execution_count": null,
   "id": "b4707945",
   "metadata": {},
   "outputs": [],
   "source": []
  },
  {
   "cell_type": "markdown",
   "id": "9a34bbe4",
   "metadata": {},
   "source": [
    "### **3.5 None**\n",
    "In Python, `None` is a special constant that represents the absence of a value or a null value. It is an object of the `NoneType` data type.\n",
    "\n",
    "#### **Key Characteristics of None:**\n",
    "1.  **Singleton**: There is only one `None` object in Python. All variables assigned `None` point to this same object.\n",
    "2.  **No Value**: It indicates that a variable has no value.\n",
    "3.  **Default Return**: Functions that don't explicitly return a value will implicitly return `None`.\n",
    "4.  **Evaluates to False**: When converted to a Boolean using `bool()`, `None` evaluates to `False`."
   ]
  },
  {
   "cell_type": "markdown",
   "id": "5ae94ea4",
   "metadata": {},
   "source": [
    "#### **Operations with None**\n",
    "1.  **Identity Check (`is`, `is not`)**\n",
    "    The most common way to check for `None` is using the `is` operator, as it checks if two variables refer to the *exact same object* (which is important for `None` being a singleton).\n",
    "    ```python\n",
    "    a = None\n",
    "    b = (a is None)       # Result: True\n",
    "    c = (a is not 10)     # Result: True\n",
    "    ```\n",
    "\n",
    "2.  **Equality Check (`==`)**\n",
    "    While `==` also works (`None == None` is `True`), `is` is generally preferred for `None` because it's semantically clearer for identity and slightly more performant.\n",
    "    ```python\n",
    "    a = None\n",
    "    b = (a == None)       # Result: True\n",
    "    ```"
   ]
  },
  {
   "cell_type": "code",
   "execution_count": null,
   "id": "cd861632",
   "metadata": {},
   "outputs": [],
   "source": []
  },
  {
   "cell_type": "markdown",
   "id": "49d002f7",
   "metadata": {},
   "source": [
    "#### **Type Conversion**\n",
    "1.  **`bool()`**: `None` converts to `False`.\n",
    "    ```python\n",
    "    a = bool(None)        # Result: False\n",
    "    ```"
   ]
  },
  {
   "cell_type": "markdown",
   "id": "f20658f2",
   "metadata": {},
   "source": [
    "#### **Practice Session**\n",
    "1.  **Assign None**: Create a variable `user_input` and assign `None` to it, indicating no input yet.\n",
    "2.  **Check for None (is)**: Check if `user_input` is `None` using the `is` operator.\n",
    "3.  **Check for None (is not)**: Check if `user_input` is not `None`.\n",
    "4.  **Boolean Conversion**: Convert `None` to a Boolean and print the result.\n",
    "5.  **Function Return**: Define a simple function that does not have a `return` statement. Call it and store its result in a variable, then check if the result is `None`."
   ]
  },
  {
   "cell_type": "markdown",
   "id": "33970640",
   "metadata": {},
   "source": [
    "### **3.6 Datetimes**\n",
    "Python's `datetime` module provides classes for working with dates and times. It's a powerful tool for handling temporal data, which is crucial in business analytics for tasks like time-series analysis, scheduling, and logging.\n",
    "\n",
    "To use `datetime`, you first need to import it:"
   ]
  },
  {
   "cell_type": "code",
   "execution_count": 1,
   "id": "26a6203c",
   "metadata": {},
   "outputs": [],
   "source": [
    "import datetime"
   ]
  },
  {
   "cell_type": "markdown",
   "id": "59359328",
   "metadata": {},
   "source": [
    "#### **Key Classes in `datetime`:**\n",
    "1.  **`date`**: Represents a date (year, month, day).\n",
    "2.  **`time`**: Represents a time of day (hour, minute, second, microsecond).\n",
    "3.  **`datetime`**: Represents both a date and a time. This is the most commonly used class.\n",
    "4.  **`timedelta`**: Represents a duration or difference between two `date`, `time`, or `datetime` instances."
   ]
  },
  {
   "cell_type": "markdown",
   "id": "aee9e7af",
   "metadata": {},
   "source": [
    "#### **Creating Datetime Objects**\n",
    "1.  **Current Date and Time (`datetime.datetime.now()`)**\n",
    "    ```python\n",
    "    import datetime\n",
    "    current_dt = datetime.datetime.now()\n",
    "    # Example Result: 2023-10-27 10:30:45.123456\n",
    "    ```\n",
    "\n",
    "2.  **Specific Date and Time (`datetime.datetime(year, month, day, hour, minute, second)`)**\n",
    "    ```python\n",
    "    import datetime\n",
    "    specific_dt = datetime.datetime(2023, 1, 15, 14, 30, 0)\n",
    "    # Result: 2023-01-15 14:30:00\n",
    "    ```\n",
    "    -   `year`, `month`, `day` are mandatory.\n",
    "    -   `hour`, `minute`, `second`, `microsecond`, `tzinfo` are optional and default to `0` or `None`.\n",
    "\n",
    "3.  **From a Timestamp (`datetime.datetime.fromtimestamp()`)**\n",
    "    Converts a Unix timestamp (seconds since epoch) to a `datetime` object.\n",
    "    ```python\n",
    "    import datetime\n",
    "    import time # For getting current timestamp\n",
    "    timestamp = time.time() # e.g., 1678886400.0\n",
    "    dt_from_ts = datetime.datetime.fromtimestamp(timestamp)\n",
    "    # Example Result: 2023-03-15 09:00:00.0\n",
    "    ```\n",
    "\n",
    "4.  **Parsing from String (`datetime.datetime.strptime(string, format)`)**\n",
    "    Converts a string representation of a date/time into a `datetime` object using a specified format code.\n",
    "    ```python\n",
    "    import datetime\n",
    "    date_string = \"2023-10-27 15:00:00\"\n",
    "    format_code = \"%Y-%m-%d %H:%M:%S\"\n",
    "    parsed_dt = datetime.datetime.strptime(date_string, format_code)\n",
    "    # Result: 2023-10-27 15:00:00\n",
    "    ```\n",
    "    Common format codes:\n",
    "    -   `%Y`: Year with century (e.g., 2023)\n",
    "    -   `%m`: Month as zero-padded decimal number (01-12)\n",
    "    -   `%d`: Day of the month as zero-padded decimal number (01-31)\n",
    "    -   `%H`: Hour (24-hour clock) as zero-padded decimal number (00-23)\n",
    "    -   `%M`: Minute as zero-padded decimal number (00-59)\n",
    "    -   `%S`: Second as zero-padded decimal number (00-59)\n",
    "    -   `%A`: Weekday name (e.g., Friday)\n",
    "    -   `%B`: Month name (e.g., October)"
   ]
  },
  {
   "cell_type": "markdown",
   "id": "f3231963",
   "metadata": {},
   "source": [
    "#### **Accessing Datetime Components (Attributes)**\n",
    "Once a `datetime` object is created, you can access its components directly.\n",
    "```python\n",
    "import datetime\n",
    "dt = datetime.datetime(2023, 10, 27, 10, 30, 45)\n",
    "\n",
    "year = dt.year      # Result: 2023\n",
    "month = dt.month    # Result: 10\n",
    "day = dt.day        # Result: 27\n",
    "hour = dt.hour      # Result: 10\n",
    "minute = dt.minute  # Result: 30\n",
    "second = dt.second  # Result: 45\n",
    "```\n",
    "You can also get the day of the week (Monday=0, Sunday=6):\n",
    "```python\n",
    "weekday = dt.weekday() # Result: 4 (for Friday)\n",
    "```"
   ]
  },
  {
   "cell_type": "code",
   "execution_count": null,
   "id": "3a8c204b",
   "metadata": {},
   "outputs": [],
   "source": []
  },
  {
   "cell_type": "markdown",
   "id": "78a105aa",
   "metadata": {},
   "source": [
    "#### **Datetime Operations**\n",
    "1.  **Arithmetic with `timedelta`**\n",
    "    You can add or subtract `timedelta` objects to `datetime` objects to shift dates and times.\n",
    "    ```python\n",
    "    import datetime\n",
    "    dt = datetime.datetime(2023, 1, 1)\n",
    "    # Add 7 days\n",
    "    seven_days_later = dt + datetime.timedelta(days=7) # Result: 2023-01-08 00:00:00\n",
    "    # Subtract 3 hours\n",
    "    three_hours_earlier = dt - datetime.timedelta(hours=3) # Result: 2022-12-31 21:00:00\n",
    "    ```\n",
    "    `timedelta` can take `days`, `seconds`, `microseconds`, `milliseconds`, `minutes`, `hours`, `weeks`.\n",
    "\n",
    "2.  **Difference between `datetime` objects**\n",
    "    Subtracting two `datetime` objects results in a `timedelta` object.\n",
    "    ```python\n",
    "    import datetime\n",
    "    dt1 = datetime.datetime(2023, 1, 10)\n",
    "    dt2 = datetime.datetime(2023, 1, 1)\n",
    "    time_difference = dt1 - dt2\n",
    "    # Result: datetime.timedelta(days=9)\n",
    "    print(time_difference.days) # Result: 9\n",
    "    ```\n",
    "\n",
    "3.  **Comparison Operations**\n",
    "    `datetime` objects can be compared directly using `==`, `!=`, `<`, `>`, `<=`, `>=`.\n",
    "    ```python\n",
    "    import datetime\n",
    "    dt1 = datetime.datetime(2023, 1, 1)\n",
    "    dt2 = datetime.datetime(2023, 1, 2)\n",
    "    is_earlier = dt1 < dt2  # Result: True\n",
    "    is_equal = dt1 == dt2   # Result: False\n",
    "    ```"
   ]
  },
  {
   "cell_type": "code",
   "execution_count": null,
   "id": "e207ad4f",
   "metadata": {},
   "outputs": [],
   "source": []
  },
  {
   "cell_type": "markdown",
   "id": "ea6d940c",
   "metadata": {},
   "source": [
    "#### **Datetime Methods**\n",
    "1.  **Formatting to String (`datetime.datetime.strftime(format)`)**\n",
    "    Converts a `datetime` object to a string using a specified format code.\n",
    "    ```python\n",
    "    import datetime\n",
    "    dt = datetime.datetime(2023, 10, 27, 10, 30)\n",
    "    formatted_date = dt.strftime(\"%Y-%m-%d %H:%M\")\n",
    "    # Result: \"2023-10-27 10:30\"\n",
    "    ```\n",
    "\n",
    "2.  **Converting to `date` or `time` only**\n",
    "    ```python\n",
    "    import datetime\n",
    "    dt = datetime.datetime(2023, 10, 27, 10, 30, 45)\n",
    "    just_date = dt.date() # Result: datetime.date(2023, 10, 27)\n",
    "    just_time = dt.time() # Result: datetime.time(10, 30, 45)\n",
    "    ```\n",
    "\n",
    "#### **Type Conversion**\n",
    "1.  **`str()`**: Converts a `datetime` object to its default string representation.\n",
    "    ```python\n",
    "    import datetime\n",
    "    dt = datetime.datetime(2023, 1, 1)\n",
    "    str_dt = str(dt) # Result: \"2023-01-01 00:00:00\"\n",
    "    ```"
   ]
  },
  {
   "cell_type": "markdown",
   "id": "992f940d",
   "metadata": {},
   "source": [
    "#### **Practice Session**\n",
    "1.  **Current Moment**: Get the current date and time and store it in a variable.\n",
    "2.  **Birthday Date**: Create a `datetime` object for your birthday (e.g., January 1, 1990, at 10:00 AM).\n",
    "3.  **Extract Year**: From your birthday `datetime` object, extract and print the year.\n",
    "4.  **Day of Week**: Find out what day of the week your birthday falls on (e.g., Monday, Tuesday).\n",
    "5.  **Future Date**: Add 30 days to the current date and time.\n",
    "6.  **Time Difference**: Calculate the difference in days between your birthday and the current date.\n",
    "7.  **Formatted Display**: Display the current date and time in the format `\"YYYY/MM/DD HH:MM:SS\"`.\n",
    "8.  **Parse Date**: Convert the string `\"2024-07-15 11:45:00\"` into a `datetime` object.\n",
    "9.  **Bonus Challenge**: A project deadline is `datetime.datetime(2024, 12, 31)`. If today is `datetime.datetime(2024, 11, 1)`, how many days are left until the deadline?"
   ]
  },
  {
   "cell_type": "markdown",
   "id": "64ca637a",
   "metadata": {},
   "source": []
  }
 ],
 "metadata": {
  "kernelspec": {
   "display_name": "base",
   "language": "python",
   "name": "python3"
  },
  "language_info": {
   "codemirror_mode": {
    "name": "ipython",
    "version": 3
   },
   "file_extension": ".py",
   "mimetype": "text/x-python",
   "name": "python",
   "nbconvert_exporter": "python",
   "pygments_lexer": "ipython3",
   "version": "3.12.11"
  }
 },
 "nbformat": 4,
 "nbformat_minor": 5
}
