{
 "cells": [
  {
   "cell_type": "markdown",
   "id": "873129a4",
   "metadata": {},
   "source": [
    "### **Problem: Portfolio Management Dashboard**\n",
    "\n",
    "#### **Scenario**\n",
    "You are building a simple command-line dashboard to track a client's stock portfolio. The portfolio contains multiple stocks, and for each stock, you track its ticker, the number of shares owned, its current price, and its industry sector.\n",
    "\n",
    "Your task is to represent this portfolio, perform some updates, and then calculate key metrics to generate a summary report.\n",
    "\n",
    "#### **Given Data**\n",
    "Here is the initial state of the portfolio.\n",
    "\n",
    "```python\n",
    "# Ticker, Shares, Price, Sector\n",
    "stock1 = ('AAPL', 100, 175.25, 'Technology')\n",
    "stock2 = ('GOOG', 50, 135.50, 'Technology')\n",
    "stock3 = ('JPM', 200, 150.75, 'Financials')\n",
    "```\n",
    "\n",
    "#### **Your Task**\n",
    "Follow these steps to build and analyze the portfolio.\n",
    "\n",
    "1.  **Choose the Right Data Structure:**\n",
    "    *   The overall portfolio will contain multiple stocks, so it should be a `list`.\n",
    "    *   Each stock has several pieces of related information (ticker, shares, price, sector). A `dictionary` is the perfect way to store the details for a single stock.\n",
    "    *   Create an empty list called `portfolio`.\n",
    "    *   For each of the three stocks above (`stock1`, `stock2`, `stock3`), create a dictionary and append it to the `portfolio` list. The keys for each dictionary should be `'ticker'`, `'shares'`, `'price'`, and `'sector'`.\n",
    "\n",
    "2.  **Add a New Asset:**\n",
    "    *   Your client just bought 150 shares of Microsoft (`'MSFT'`) at `$330.50`, which is in the `'Technology'` sector.\n",
    "    *   Create a new dictionary for this stock and `append` it to your `portfolio` list.\n",
    "\n",
    "3.  **Update an Existing Asset:**\n",
    "    *   There's been a market update! The price of JPMorgan (`'JPM'`) has increased to `$155.20`.\n",
    "    *   Find the dictionary for `'JPM'` in your `portfolio` list and update its `'price'` value. (Hint: You will need to loop through the list and use a condition to find the correct stock).\n",
    "\n",
    "4.  **Perform Calculations:**\n",
    "    *   Calculate the total value of the portfolio. To do this, initialize a variable `total_portfolio_value` to `0.0`.\n",
    "    *   Loop through each stock dictionary in the `portfolio` list. For each stock, calculate its individual value (`shares` * `price`) and add it to `total_portfolio_value`.\n",
    "    *   Identify all the unique industry sectors the client is invested in. Create an empty `set` called `investment_sectors` and loop through the portfolio, adding the `'sector'` of each stock to the set.\n",
    "\n",
    "5.  **Generate the Report:**\n",
    "    *   Using an f-string, create a final report that summarizes the portfolio.\n",
    "    *   The report should be stored in a variable called `dashboard_summary`.\n",
    "    *   The final report should look *exactly* like this (your total value may differ slightly due to float precision):\n",
    "\n",
    "    ```\n",
    "    Client Portfolio Dashboard\n",
    "    --------------------------\n",
    "    Total Portfolio Value: $86162.5\n",
    "    Number of Holdings: 4\n",
    "    Investment Sectors: {'Financials', 'Technology'}\n",
    "\n",
    "    Holdings Details:\n",
    "    - AAPL: 100 shares @ $175.25\n",
    "    - GOOG: 50 shares @ $135.5\n",
    "    - JPM: 200 shares @ $155.2\n",
    "    - MSFT: 150 shares @ $330.5\n",
    "    ```\n",
    "    *   Print the `dashboard_summary` variable. (Hint: To print the holdings, you might need another loop within your f-string creation process or build that part of the string separately)."
   ]
  },
  {
   "cell_type": "code",
   "execution_count": null,
   "id": "5410d453",
   "metadata": {
    "vscode": {
     "languageId": "plaintext"
    }
   },
   "outputs": [],
   "source": []
  }
 ],
 "metadata": {
  "language_info": {
   "name": "python"
  }
 },
 "nbformat": 4,
 "nbformat_minor": 5
}
