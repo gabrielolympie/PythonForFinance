{
 "cells": [
  {
   "cell_type": "markdown",
   "id": "136bcf95",
   "metadata": {},
   "source": [
    "## **1. Before we begin**\n",
    "As it can sometime be complex to keep track of all variables and syntactic subtelty, here are some utilities that can help you:\n",
    "`help(object)` : will display the documentation of the object\n",
    "`dir(object)` : will display the methods and attributes of the object\n",
    "`#` : will comment a line\n",
    "`!command` : will execute a shell command (ex: `!ls` will list the files in the current directory)"
   ]
  },
  {
   "cell_type": "code",
   "execution_count": null,
   "id": "762701ad",
   "metadata": {},
   "outputs": [],
   "source": [
    "## This will install numpy if not already installed\n",
    "!pip install numpy"
   ]
  },
  {
   "cell_type": "markdown",
   "id": "a3b9e395",
   "metadata": {},
   "source": [
    "## This will provide the documentation of the numpy module\n",
    "import numpy as np\n",
    "help(np)"
   ]
  },
  {
   "cell_type": "markdown",
   "id": "cd0caa5d",
   "metadata": {},
   "source": [
    "## This will display all the attributes and methods of the numpy module\n",
    "dir(np)"
   ]
  },
  {
   "cell_type": "markdown",
   "id": "b36fc31d",
   "metadata": {},
   "source": [
    "## **2. Variables**\n",
    "In Python, a **variable** is a symbolic name that refers to a value or object stored in memory. It acts as a container for holding data that can be used and manipulated throughout a program.\n",
    "\n",
    "### **Key Characteristics of Variables:**\n",
    "1. **Name**: A variable has a unique identifier (e.g., `x`, `user_name`).\n",
    "2. **Value**: It stores data (e.g., numbers, strings, lists).\n",
    "3. **Dynamic Typing**: Python variables can change type (e.g., `x = 5` → `x = \"hello\"`).\n",
    "4. **Assignment**: Created using `=` (e.g., `age = 25`).\n",
    "\n",
    "Variables allow programs to store and reference data efficiently."
   ]
  },
  {
   "cell_type": "markdown",
   "id": "22825163",
   "metadata": {},
   "source": [
    "### **2.1 Python Naming Conventions for Variables**\n",
    "1. **Case Sensitivity**: Python is case-sensitive. `age` and `Age` are different variables.\n",
    "2. **Descriptive Names**: Use meaningful names (e.g., `student_name` instead of `s`).\n",
    "3. **Snake Case**: Use lowercase letters with underscores for multiple words (e.g., `user_age`).\n",
    "4. **Avoid Keywords**: Do not use Python keywords (e.g., `if`, `for`, `while`) as variable names.\n",
    "5. **Start with Letter or Underscore**: Names must start with a letter (a-z, A-Z) or underscore (_), followed by letters, numbers, or underscores.\n",
    "6. **No Spaces**: Avoid spaces in variable names.\n",
    "7. **Private Variables**: Use a leading underscore (e.g., `_private_var`) to indicate internal use.\n",
    "8. **Constants**: Use uppercase letters with underscores (e.g., `MAX_VALUE`)."
   ]
  },
  {
   "cell_type": "markdown",
   "id": "d9d0ee37",
   "metadata": {},
   "source": [
    "#### **Examples**"
   ]
  },
  {
   "cell_type": "code",
   "execution_count": 4,
   "id": "a9cfca71",
   "metadata": {},
   "outputs": [],
   "source": [
    "## A variable to store a user name:\n",
    "user_name = \"Alice\""
   ]
  },
  {
   "cell_type": "code",
   "execution_count": 5,
   "id": "b2db70c8",
   "metadata": {},
   "outputs": [],
   "source": [
    "## A variable to set how many times we want to retry a connection:\n",
    "max_retries = 3"
   ]
  },
  {
   "cell_type": "code",
   "execution_count": 6,
   "id": "a7631239",
   "metadata": {},
   "outputs": [],
   "source": [
    "# A variable to indicate if a user is active or not:\n",
    "_is_active = True"
   ]
  },
  {
   "cell_type": "code",
   "execution_count": 11,
   "id": "811d0e90",
   "metadata": {},
   "outputs": [],
   "source": [
    "## A variable to store the state of a chess game in algebraic \n",
    "chess_state = \"e4 e5 Nf3 Nc6\""
   ]
  },
  {
   "cell_type": "markdown",
   "id": "8c5dc8eb",
   "metadata": {},
   "source": [
    "#### **Note**\n",
    "It can be tempting to save time to use short, unclear names or single letters. However, this can lead to confusion and errors, especially in larger projects. Always prioritize clarity and consision while writing code, your future self will thank you for that."
   ]
  },
  {
   "cell_type": "markdown",
   "id": "177e6d35",
   "metadata": {},
   "source": [
    "### **2.2 Behavior of a variable**\n",
    "\n",
    "A variable will remain in memory until the end of your session, but can be overriden either by restarting the session, changing it's value, or deleting it.\n",
    "In jupyter, you can follow the variable state through the variable explorer.\n",
    "\n",
    "To delete a variable, you can use the `del` statement:"
   ]
  },
  {
   "cell_type": "code",
   "execution_count": 12,
   "id": "8b0bcd7e",
   "metadata": {},
   "outputs": [],
   "source": [
    "del chess_state"
   ]
  },
  {
   "cell_type": "markdown",
   "id": "65e7abf1",
   "metadata": {},
   "source": [
    "To be noted, but you can store a variable inside a variable, which is called a variable nesting. In this case, the assignement can be a simple reference, and changing one of the two variables will also change the other one, so be extra carefull when doing it. If you need to replicate the value of a variable while preserving independance, you can do the following:"
   ]
  },
  {
   "cell_type": "code",
   "execution_count": 14,
   "id": "ffa8db72",
   "metadata": {},
   "outputs": [],
   "source": [
    "from copy import deepcopy\n",
    "\n",
    "my_new_variable = deepcopy(user_name)"
   ]
  },
  {
   "cell_type": "markdown",
   "id": "2d88a266",
   "metadata": {},
   "source": [
    "### **2.3 Practice Session: Defining and Naming Variables**\n",
    "\n",
    "The goal of this session is to get comfortable with the basic syntax of creating variables and to practice using the standard Python naming conventions. For each task, create the variable and assign it the specified value. You can use the `print()` function to see the value you've stored (e.g., `print(company_name)`).\n",
    "\n",
    "1.  **Company Identity**: Create a variable named `company_name` to store the name of a company, for example, `\"Global Finance Corp\"`.\n",
    "\n",
    "2.  **Stock Ticker**: Create a variable to hold a stock ticker symbol. Following the convention for constants (since a ticker for a specific stock doesn't change), name it `TICKER_SYMBOL` and assign it the value `\"GFC\"`.\n",
    "\n",
    "3.  **Share Count**: Imagine you own 1,250 shares of this company. Create a variable called `number_of_shares` to store this whole number.\n",
    "\n",
    "4.  **Market Price**: The current price of the stock is $195.50. Create a variable named `current_price` to store this decimal value.\n",
    "\n",
    "5.  **Profitability Check**: The company reported a profit last quarter. Create a variable `is_profitable` and assign it the boolean value `True`.\n",
    "\n",
    "6.  **Internal ID**: For internal tracking, each analyst is assigned an ID. Create a variable `_analyst_id` to store an internal ID, like `734`. This practices the convention for internal-use variables.\n",
    "\n",
    "7.  **Price Update**: The stock price just changed! On a new line after you created `current_price`, update its value to `197.25`. This demonstrates that variables can be changed.\n",
    "\n",
    "8.  **Portfolio Value**: Calculate the total value of your stock holding. Create a new variable called `total_portfolio_value` and assign it the result of multiplying `number_of_shares` by the updated `current_price`.\n",
    "\n",
    "9.  **Temporary Calculation Cleanup**: You created a temporary variable for a quick check, `temp_risk_score = 0.85`. After using it, you no longer need it. Use the `del` statement to remove this variable from memory.\n",
    "\n",
    "10. **Bonus Challenge: Client Report Summary**:\n",
    "    *   Create three variables: `client_name` set to `\"John Smith\"`, `account_number` set to `98765`, and `portfolio_value` set to `55430.75`.\n",
    "    *   The goal is to practice creating multiple related variables that follow good naming conventions (`snake_case`). You'll learn how to combine them into a nice report message in the next section"
   ]
  },
  {
   "cell_type": "code",
   "execution_count": null,
   "id": "bfa70e81",
   "metadata": {},
   "outputs": [],
   "source": []
  },
  {
   "cell_type": "code",
   "execution_count": null,
   "id": "80f0f9ae",
   "metadata": {},
   "outputs": [],
   "source": []
  },
  {
   "cell_type": "code",
   "execution_count": null,
   "id": "08fade6a",
   "metadata": {},
   "outputs": [],
   "source": []
  },
  {
   "cell_type": "code",
   "execution_count": null,
   "id": "40828719",
   "metadata": {},
   "outputs": [],
   "source": []
  },
  {
   "cell_type": "code",
   "execution_count": null,
   "id": "2949193a",
   "metadata": {},
   "outputs": [],
   "source": []
  },
  {
   "cell_type": "markdown",
   "id": "1de088f7",
   "metadata": {},
   "source": []
  }
 ],
 "metadata": {
  "kernelspec": {
   "display_name": "base",
   "language": "python",
   "name": "python3"
  },
  "language_info": {
   "codemirror_mode": {
    "name": "ipython",
    "version": 3
   },
   "file_extension": ".py",
   "mimetype": "text/x-python",
   "name": "python",
   "nbconvert_exporter": "python",
   "pygments_lexer": "ipython3",
   "version": "3.12.11"
  }
 },
 "nbformat": 4,
 "nbformat_minor": 5
}
